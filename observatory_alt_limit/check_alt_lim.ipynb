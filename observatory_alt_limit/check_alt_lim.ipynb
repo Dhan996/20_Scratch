{
 "cells": [
  {
   "cell_type": "code",
   "execution_count": 17,
   "metadata": {},
   "outputs": [],
   "source": [
    "from lsst.sims.featureScheduler.modelObservatory import Model_observatory\n",
    "import numpy as np"
   ]
  },
  {
   "cell_type": "code",
   "execution_count": 4,
   "metadata": {},
   "outputs": [
    {
     "name": "stderr",
     "output_type": "stream",
     "text": [
      "WARNING: ErfaWarning: ERFA function \"d2dtf\" yielded 1 of \"dubious year (Note 5)\" [astropy._erfa.core]\n",
      "WARNING: ErfaWarning: ERFA function \"utctai\" yielded 1 of \"dubious year (Note 3)\" [astropy._erfa.core]\n"
     ]
    }
   ],
   "source": [
    "mo = Model_observatory()"
   ]
  },
  {
   "cell_type": "code",
   "execution_count": 6,
   "metadata": {},
   "outputs": [
    {
     "data": {
      "text/plain": [
       "['__class__',\n",
       " '__delattr__',\n",
       " '__dict__',\n",
       " '__dir__',\n",
       " '__doc__',\n",
       " '__eq__',\n",
       " '__format__',\n",
       " '__ge__',\n",
       " '__getattribute__',\n",
       " '__gt__',\n",
       " '__hash__',\n",
       " '__init__',\n",
       " '__init_subclass__',\n",
       " '__le__',\n",
       " '__lt__',\n",
       " '__module__',\n",
       " '__ne__',\n",
       " '__new__',\n",
       " '__reduce__',\n",
       " '__reduce_ex__',\n",
       " '__repr__',\n",
       " '__setattr__',\n",
       " '__sizeof__',\n",
       " '__str__',\n",
       " '__subclasshook__',\n",
       " '__weakref__',\n",
       " '_uamSlewTime',\n",
       " 'activities',\n",
       " 'altaz2radecpa',\n",
       " 'compute_kinematic_delay',\n",
       " 'configure',\n",
       " 'configure_camera',\n",
       " 'configure_dome',\n",
       " 'configure_from_module',\n",
       " 'configure_optics',\n",
       " 'configure_park',\n",
       " 'configure_rotator',\n",
       " 'configure_slew',\n",
       " 'configure_telescope',\n",
       " 'current_state',\n",
       " 'dateprofile',\n",
       " 'delay_for',\n",
       " 'expose',\n",
       " 'filter_changes_list',\n",
       " 'filters',\n",
       " 'function_get_delay_for',\n",
       " 'get_approximate_slew_delay',\n",
       " 'get_closest_angle_distance',\n",
       " 'get_closest_state',\n",
       " 'get_configure_dict',\n",
       " 'get_deep_drilling_time',\n",
       " 'get_delay_after',\n",
       " 'get_delay_for_domalt',\n",
       " 'get_delay_for_domaz',\n",
       " 'get_delay_for_domazsettle',\n",
       " 'get_delay_for_exposures',\n",
       " 'get_delay_for_filter',\n",
       " 'get_delay_for_readout',\n",
       " 'get_delay_for_telalt',\n",
       " 'get_delay_for_telaz',\n",
       " 'get_delay_for_telopticsclosedloop',\n",
       " 'get_delay_for_telopticsopenloop',\n",
       " 'get_delay_for_telrot',\n",
       " 'get_delay_for_telsettle',\n",
       " 'get_delta_filter_avg',\n",
       " 'get_delta_filter_burst',\n",
       " 'get_delta_last_filterchange',\n",
       " 'get_number_filter_changes',\n",
       " 'get_slew_delay',\n",
       " 'get_slew_delay_for_state',\n",
       " 'is_filter_change_allowed',\n",
       " 'is_filter_change_allowed_for',\n",
       " 'lastslew_criticalpath',\n",
       " 'lastslew_delays_dict',\n",
       " 'location',\n",
       " 'log',\n",
       " 'log_level',\n",
       " 'longest_prereq_for',\n",
       " 'observe',\n",
       " 'observe_times',\n",
       " 'params',\n",
       " 'park',\n",
       " 'park_state',\n",
       " 'radec2altazpa',\n",
       " 'radecang2position',\n",
       " 'reset',\n",
       " 'set_state',\n",
       " 'slew',\n",
       " 'slew_altaz',\n",
       " 'slew_radec',\n",
       " 'slew_to_position',\n",
       " 'start_tracking',\n",
       " 'stop_tracking',\n",
       " 'swap_filter',\n",
       " 'update_state']"
      ]
     },
     "execution_count": 6,
     "metadata": {},
     "output_type": "execute_result"
    }
   ],
   "source": [
    "dir(mo.observatory)"
   ]
  },
  {
   "cell_type": "code",
   "execution_count": 10,
   "metadata": {},
   "outputs": [
    {
     "data": {
      "text/plain": [
       "<bound method ObservatoryModel.configure_telescope of <lsst.sims.featureScheduler.modelObservatory.model_observatory.ExtendedObservatoryModel object at 0x7fc97d84e630>>"
      ]
     },
     "execution_count": 10,
     "metadata": {},
     "output_type": "execute_result"
    }
   ],
   "source": [
    "mo.observatory.configure_telescope"
   ]
  },
  {
   "cell_type": "code",
   "execution_count": 18,
   "metadata": {},
   "outputs": [
    {
     "data": {
      "text/plain": [
       "20.0"
      ]
     },
     "execution_count": 18,
     "metadata": {},
     "output_type": "execute_result"
    }
   ],
   "source": [
    "np.degrees(mo.observatory.params.telalt_minpos_rad)"
   ]
  },
  {
   "cell_type": "code",
   "execution_count": 19,
   "metadata": {},
   "outputs": [],
   "source": [
    "# OK, so the parameter does look to default to 20 degrees\n",
    "\n",
    "# looks like some random shit called current_state.fail_state gets set?"
   ]
  },
  {
   "cell_type": "code",
   "execution_count": 21,
   "metadata": {},
   "outputs": [
    {
     "data": {
      "text/plain": [
       "0"
      ]
     },
     "execution_count": 21,
     "metadata": {},
     "output_type": "execute_result"
    }
   ],
   "source": [
    "mo.observatory.current_state.fail_state"
   ]
  },
  {
   "cell_type": "code",
   "execution_count": 23,
   "metadata": {},
   "outputs": [
    {
     "data": {
      "text/plain": [
       "False"
      ]
     },
     "execution_count": 23,
     "metadata": {},
     "output_type": "execute_result"
    }
   ],
   "source": [
    "mo.observatory.current_state.fail_state > 0 "
   ]
  },
  {
   "cell_type": "code",
   "execution_count": null,
   "metadata": {},
   "outputs": [],
   "source": []
  },
  {
   "cell_type": "code",
   "execution_count": null,
   "metadata": {},
   "outputs": [],
   "source": []
  }
 ],
 "metadata": {
  "kernelspec": {
   "display_name": "Python 3",
   "language": "python",
   "name": "python3"
  },
  "language_info": {
   "codemirror_mode": {
    "name": "ipython",
    "version": 3
   },
   "file_extension": ".py",
   "mimetype": "text/x-python",
   "name": "python",
   "nbconvert_exporter": "python",
   "pygments_lexer": "ipython3",
   "version": "3.7.2"
  }
 },
 "nbformat": 4,
 "nbformat_minor": 2
}
