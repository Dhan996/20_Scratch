{
 "cells": [
  {
   "cell_type": "code",
   "execution_count": 1,
   "metadata": {},
   "outputs": [],
   "source": [
    "import numpy as np\n",
    "import matplotlib.pylab as plt\n",
    "%matplotlib inline\n",
    "from astropy.coordinates import get_sun, SkyCoord, EarthLocation, AltAz, get_moon\n",
    "from astropy.time import Time\n",
    "from lsst.sims.utils import Site, raDec2Hpid, m5_flat_sed\n",
    "from astropy import units as u\n",
    "from lsst.sims.skybrightness_pre import SkyModelPre\n",
    "import healpy as hp\n",
    "from lsst.sims.seeingModel import SeeingModel\n",
    "from lsst.sims.downtimeModel import ScheduledDowntimeData"
   ]
  },
  {
   "cell_type": "code",
   "execution_count": 2,
   "metadata": {},
   "outputs": [],
   "source": [
    "site = Site('LSST')\n",
    "location = EarthLocation(lat=site.latitude, lon=site.longitude,height=site.height)"
   ]
  },
  {
   "cell_type": "code",
   "execution_count": 3,
   "metadata": {},
   "outputs": [],
   "source": [
    "nyears = 2.2\n",
    "mjd = np.arange(59853.5, 59853.5+365.25*nyears, 20./60/24.)\n",
    "times = Time(mjd, format='mjd', location=location)\n",
    "\n",
    "airmass_limit = 2.5 # demand airmass lower than this\n",
    "twilight_limit = -18.  # Sun below this altitude in degrees\n",
    "dist_to_moon_limit = 30.  # minimum distance to keep from moon degrees"
   ]
  },
  {
   "cell_type": "code",
   "execution_count": 4,
   "metadata": {},
   "outputs": [
    {
     "name": "stderr",
     "output_type": "stream",
     "text": [
      "WARNING: ErfaWarning: ERFA function \"utctai\" yielded 57856 of \"dubious year (Note 3)\" [astropy._erfa.core]\n",
      "WARNING: Tried to get polar motions for times after IERS data is valid. Defaulting to polar motion from the 50-yr mean for those. This may affect precision at the 10s of arcsec level [astropy.coordinates.builtin_frames.utils]\n",
      "WARNING: ErfaWarning: ERFA function \"utcut1\" yielded 57856 of \"dubious year (Note 3)\" [astropy._erfa.core]\n",
      "WARNING: ErfaWarning: ERFA function \"utctai\" yielded 57856 of \"dubious year (Note 3)\" [astropy._erfa.core]\n"
     ]
    }
   ],
   "source": [
    "sun_coords = get_sun(times)\n",
    "moon_coords = get_moon(times)"
   ]
  },
  {
   "cell_type": "code",
   "execution_count": 5,
   "metadata": {},
   "outputs": [
    {
     "name": "stderr",
     "output_type": "stream",
     "text": [
      "WARNING: ErfaWarning: ERFA function \"d2dtf\" yielded 1 of \"dubious year (Note 5)\" [astropy._erfa.core]\n"
     ]
    }
   ],
   "source": [
    "sched_downtime_data = ScheduledDowntimeData(Time(mjd[0], format='mjd'))\n",
    "observatory_up = np.ones(mjd.size, dtype=bool)\n",
    "for dt in sched_downtime_data():\n",
    "    indx = np.where((mjd >= dt['start'].mjd) & (mjd <= dt['end'].mjd))[0]\n",
    "    observatory_up[indx] = False\n"
   ]
  },
  {
   "cell_type": "code",
   "execution_count": 6,
   "metadata": {},
   "outputs": [],
   "source": [
    "lst = times.sidereal_time('mean')"
   ]
  },
  {
   "cell_type": "code",
   "execution_count": 7,
   "metadata": {},
   "outputs": [
    {
     "name": "stderr",
     "output_type": "stream",
     "text": [
      "WARNING: ErfaWarning: ERFA function \"apio13\" yielded 57856 of \"dubious year (Note 2)\" [astropy._erfa.core]\n"
     ]
    }
   ],
   "source": [
    "sun_altaz = sun_coords.transform_to(AltAz(location=location))\n",
    "\n",
    "# generate a night label for each timestep\n",
    "sun_rise = np.where((sun_altaz.alt[0:-1] < 0) & (sun_altaz.alt[1:] > 0))[0]\n",
    "night = np.zeros(mjd.size, dtype=int)\n",
    "night[sun_rise] = 1\n",
    "night = np.cumsum(night) + 1 #  1-index for night"
   ]
  },
  {
   "cell_type": "code",
   "execution_count": 8,
   "metadata": {},
   "outputs": [],
   "source": [
    "sun_down = np.where(sun_altaz.alt < twilight_limit*u.deg)[0]"
   ]
  },
  {
   "cell_type": "code",
   "execution_count": 9,
   "metadata": {},
   "outputs": [],
   "source": [
    "# ELAIS S1\n",
    "ddf_coord = SkyCoord(ra=9.45*u.deg, dec=-44.*u.deg)"
   ]
  },
  {
   "cell_type": "code",
   "execution_count": 10,
   "metadata": {},
   "outputs": [],
   "source": [
    "ddf_altaz = ddf_coord.transform_to(AltAz(location=location, obstime=times))\n",
    "ddf_airmass = 1./np.cos(np.radians(90.-ddf_altaz.az.deg))"
   ]
  },
  {
   "cell_type": "code",
   "execution_count": 11,
   "metadata": {},
   "outputs": [],
   "source": [
    "# HA = LST - RA\n",
    "ha = lst - ddf_coord.ra"
   ]
  },
  {
   "cell_type": "code",
   "execution_count": 12,
   "metadata": {},
   "outputs": [
    {
     "data": {
      "text/plain": [
       "<matplotlib.colorbar.Colorbar at 0x81cef9b00>"
      ]
     },
     "execution_count": 12,
     "metadata": {},
     "output_type": "execute_result"
    },
    {
     "data": {
      "image/png": "[encoded data removed]",
      "text/plain": [
       "<Figure size 432x288 with 2 Axes>"
      ]
     },
     "metadata": {
      "needs_background": "light"
     },
     "output_type": "display_data"
    }
   ],
   "source": [
    "plt.scatter(mjd[0:200], ha[0:200], c=ddf_altaz.alt[0:200])\n",
    "plt.colorbar()"
   ]
  },
  {
   "cell_type": "code",
   "execution_count": null,
   "metadata": {},
   "outputs": [],
   "source": []
  },
  {
   "cell_type": "code",
   "execution_count": 13,
   "metadata": {},
   "outputs": [],
   "source": [
    "# need the moon, to avoid getting too close\n",
    "# Maybe airmass. and skybrightness. Probably only need 1-filter for skybrightness?\n",
    "# Should load up scheduled downtimes"
   ]
  },
  {
   "cell_type": "code",
   "execution_count": 14,
   "metadata": {},
   "outputs": [],
   "source": [
    "nside = 32\n",
    "ddf_indx = raDec2Hpid(nside,ddf_coord.ra.deg, ddf_coord.dec.deg)\n",
    "sm = SkyModelPre()"
   ]
  },
  {
   "cell_type": "code",
   "execution_count": 17,
   "metadata": {},
   "outputs": [
    {
     "ename": "ValueError",
     "evalue": "MJD = 60505.000000 is out of range for the files found (59560.000000-61420.000000)",
     "output_type": "error",
     "traceback": [
      "\u001b[0;31m---------------------------------------------------------------------------\u001b[0m",
      "\u001b[0;31mValueError\u001b[0m                                Traceback (most recent call last)",
      "\u001b[0;32m<ipython-input-17-4df3b0d01189>\u001b[0m in \u001b[0;36m<module>\u001b[0;34m\u001b[0m\n\u001b[1;32m      6\u001b[0m \u001b[0;34m\u001b[0m\u001b[0m\n\u001b[1;32m      7\u001b[0m \u001b[0;32mfor\u001b[0m \u001b[0mindx\u001b[0m \u001b[0;32min\u001b[0m \u001b[0msun_down\u001b[0m\u001b[0;34m:\u001b[0m\u001b[0;34m\u001b[0m\u001b[0;34m\u001b[0m\u001b[0m\n\u001b[0;32m----> 8\u001b[0;31m     \u001b[0mg_sb\u001b[0m\u001b[0;34m[\u001b[0m\u001b[0mindx\u001b[0m\u001b[0;34m]\u001b[0m \u001b[0;34m=\u001b[0m \u001b[0msm\u001b[0m\u001b[0;34m.\u001b[0m\u001b[0mreturnMags\u001b[0m\u001b[0;34m(\u001b[0m\u001b[0mmjd\u001b[0m\u001b[0;34m[\u001b[0m\u001b[0mindx\u001b[0m\u001b[0;34m]\u001b[0m\u001b[0;34m,\u001b[0m \u001b[0mindx\u001b[0m\u001b[0;34m=\u001b[0m\u001b[0;34m[\u001b[0m\u001b[0mddf_indx\u001b[0m\u001b[0;34m]\u001b[0m\u001b[0;34m,\u001b[0m \u001b[0mfilters\u001b[0m\u001b[0;34m=\u001b[0m\u001b[0;34m'g'\u001b[0m\u001b[0;34m,\u001b[0m \u001b[0mbadval\u001b[0m\u001b[0;34m=\u001b[0m\u001b[0mnp\u001b[0m\u001b[0;34m.\u001b[0m\u001b[0mnan\u001b[0m\u001b[0;34m)\u001b[0m\u001b[0;34m[\u001b[0m\u001b[0;34m'g'\u001b[0m\u001b[0;34m]\u001b[0m\u001b[0;34m\u001b[0m\u001b[0;34m\u001b[0m\u001b[0m\n\u001b[0m",
      "\u001b[0;32m~/git_repos/sims_skybrightness_pre/python/lsst/sims/skybrightness_pre/SkyModelPre.py\u001b[0m in \u001b[0;36mreturnMags\u001b[0;34m(self, mjd, indx, airmass_mask, planet_mask, moon_mask, zenith_mask, badval, filters, extrapolate)\u001b[0m\n\u001b[1;32m    344\u001b[0m         \"\"\"\n\u001b[1;32m    345\u001b[0m         \u001b[0;32mif\u001b[0m \u001b[0;34m(\u001b[0m\u001b[0mmjd\u001b[0m \u001b[0;34m<\u001b[0m \u001b[0mself\u001b[0m\u001b[0;34m.\u001b[0m\u001b[0mloaded_range\u001b[0m\u001b[0;34m.\u001b[0m\u001b[0mmin\u001b[0m\u001b[0;34m(\u001b[0m\u001b[0;34m)\u001b[0m \u001b[0;32mor\u001b[0m \u001b[0;34m(\u001b[0m\u001b[0mmjd\u001b[0m \u001b[0;34m>\u001b[0m \u001b[0mself\u001b[0m\u001b[0;34m.\u001b[0m\u001b[0mloaded_range\u001b[0m\u001b[0;34m.\u001b[0m\u001b[0mmax\u001b[0m\u001b[0;34m(\u001b[0m\u001b[0;34m)\u001b[0m\u001b[0;34m)\u001b[0m\u001b[0;34m)\u001b[0m\u001b[0;34m:\u001b[0m\u001b[0;34m\u001b[0m\u001b[0;34m\u001b[0m\u001b[0m\n\u001b[0;32m--> 346\u001b[0;31m             \u001b[0mself\u001b[0m\u001b[0;34m.\u001b[0m\u001b[0m_load_data\u001b[0m\u001b[0;34m(\u001b[0m\u001b[0mmjd\u001b[0m\u001b[0;34m)\u001b[0m\u001b[0;34m\u001b[0m\u001b[0;34m\u001b[0m\u001b[0m\n\u001b[0m\u001b[1;32m    347\u001b[0m \u001b[0;34m\u001b[0m\u001b[0m\n\u001b[1;32m    348\u001b[0m         mask_rules = {'airmass': airmass_mask, 'planet': planet_mask,\n",
      "\u001b[0;32m~/git_repos/sims_skybrightness_pre/python/lsst/sims/skybrightness_pre/SkyModelPre.py\u001b[0m in \u001b[0;36m_load_data\u001b[0;34m(self, mjd, filename, npyfile)\u001b[0m\n\u001b[1;32m    153\u001b[0m                 raise ValueError('MJD = %f is out of range for the files found (%f-%f)' % (mjd,\n\u001b[1;32m    154\u001b[0m                                                                                            \u001b[0mself\u001b[0m\u001b[0;34m.\u001b[0m\u001b[0mmjd_left\u001b[0m\u001b[0;34m.\u001b[0m\u001b[0mmin\u001b[0m\u001b[0;34m(\u001b[0m\u001b[0;34m)\u001b[0m\u001b[0;34m,\u001b[0m\u001b[0;34m\u001b[0m\u001b[0;34m\u001b[0m\u001b[0m\n\u001b[0;32m--> 155\u001b[0;31m                                                                                            self.mjd_right.max()))\n\u001b[0m\u001b[1;32m    156\u001b[0m             \u001b[0;31m# Just take the later one, assuming we're probably simulating forward in time\u001b[0m\u001b[0;34m\u001b[0m\u001b[0;34m\u001b[0m\u001b[0;34m\u001b[0m\u001b[0m\n\u001b[1;32m    157\u001b[0m             \u001b[0mfile_indx\u001b[0m \u001b[0;34m=\u001b[0m \u001b[0mnp\u001b[0m\u001b[0;34m.\u001b[0m\u001b[0mmax\u001b[0m\u001b[0;34m(\u001b[0m\u001b[0mfile_indx\u001b[0m\u001b[0;34m)\u001b[0m\u001b[0;34m\u001b[0m\u001b[0;34m\u001b[0m\u001b[0m\n",
      "\u001b[0;31mValueError\u001b[0m: MJD = 60505.000000 is out of range for the files found (59560.000000-61420.000000)"
     ]
    }
   ],
   "source": [
    "g_sb = mjd*0+np.nan\n",
    "\n",
    "indices = np.where((sun_altaz.alt < twilight_limit*u.deg) & (ddf_airmass > airmass_limit))[0]\n",
    "# In theory, one could reach into the sky brightness model and do a much faster interpolation\n",
    "# There might be an airmass limit on the sky brightness.\n",
    "for indx in sun_down:\n",
    "    g_sb[indx] = sm.returnMags(mjd[indx], indx=[ddf_indx], filters='g', badval=np.nan)['g']"
   ]
  },
  {
   "cell_type": "code",
   "execution_count": null,
   "metadata": {},
   "outputs": [],
   "source": [
    "good = ~np.isnan(g_sb)\n",
    "plt.plot(mjd[good], g_sb[good])"
   ]
  },
  {
   "cell_type": "code",
   "execution_count": null,
   "metadata": {},
   "outputs": [],
   "source": []
  },
  {
   "cell_type": "code",
   "execution_count": null,
   "metadata": {},
   "outputs": [],
   "source": [
    "ddf_airmass[good]"
   ]
  },
  {
   "cell_type": "code",
   "execution_count": null,
   "metadata": {},
   "outputs": [],
   "source": [
    "dist_to_moon = ddf_coord.separation(moon_coords)"
   ]
  },
  {
   "cell_type": "code",
   "execution_count": null,
   "metadata": {},
   "outputs": [],
   "source": [
    "seeing_model = SeeingModel()\n",
    "ddf_approx_fwhmEff = seeing_model(0.7, ddf_airmass)\n",
    "# I think this should pluck out the g-filter. Really should be labled\n",
    "ddf_approx_fwhmEff = ddf_approx_fwhmEff['fwhmEff'][1].ravel()"
   ]
  },
  {
   "cell_type": "code",
   "execution_count": null,
   "metadata": {},
   "outputs": [],
   "source": [
    "ddf_m5 = m5_flat_sed('g', g_sb, ddf_approx_fwhmEff, 30., ddf_airmass, nexp=1.)"
   ]
  },
  {
   "cell_type": "code",
   "execution_count": null,
   "metadata": {},
   "outputs": [],
   "source": [
    "# demand sun down past twilight, ddf is up, and observatory is open, and not too close to the moon\n",
    "good = np.where((ddf_airmass < airmass_limit) & (sun_altaz.alt < twilight_limit*u.deg) &\n",
    "                (ddf_airmass > 0) & (observatory_up == True) & (dist_to_moon > dist_to_moon_limit*u.deg))\n",
    "plt.plot(mjd[good], ddf_m5[good])\n",
    "plt.xlabel('MJD')\n",
    "plt.ylabel('Nominal Seeing 5-sigma depth in g')"
   ]
  },
  {
   "cell_type": "code",
   "execution_count": null,
   "metadata": {},
   "outputs": [],
   "source": [
    "\n"
   ]
  },
  {
   "cell_type": "code",
   "execution_count": null,
   "metadata": {},
   "outputs": [],
   "source": []
  },
  {
   "cell_type": "code",
   "execution_count": null,
   "metadata": {},
   "outputs": [],
   "source": []
  },
  {
   "cell_type": "code",
   "execution_count": null,
   "metadata": {},
   "outputs": [],
   "source": []
  },
  {
   "cell_type": "code",
   "execution_count": null,
   "metadata": {},
   "outputs": [],
   "source": []
  },
  {
   "cell_type": "code",
   "execution_count": null,
   "metadata": {},
   "outputs": [],
   "source": []
  }
 ],
 "metadata": {
  "kernelspec": {
   "display_name": "Python 3",
   "language": "python",
   "name": "python3"
  }
 },
 "nbformat": 4,
 "nbformat_minor": 2
}
