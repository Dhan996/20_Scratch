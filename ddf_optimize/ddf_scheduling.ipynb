{
 "cells": [
  {
   "cell_type": "code",
   "execution_count": 1,
   "metadata": {},
   "outputs": [],
   "source": [
    "import numpy as np\n",
    "import matplotlib.pylab as plt\n",
    "%matplotlib inline\n",
    "from astropy.coordinates import get_sun, SkyCoord, EarthLocation, AltAz, get_moon\n",
    "from astropy.time import Time\n",
    "from lsst.sims.utils import Site, raDec2Hpid, m5_flat_sed\n",
    "from astropy import units as u\n",
    "from lsst.sims.skybrightness_pre import SkyModelPre\n",
    "import healpy as hp\n",
    "from lsst.sims.seeingModel import SeeingModel\n",
    "from lsst.sims.downtimeModel import ScheduledDowntimeData"
   ]
  },
  {
   "cell_type": "code",
   "execution_count": 2,
   "metadata": {},
   "outputs": [],
   "source": [
    "site = Site('LSST')\n",
    "location = EarthLocation(lat=site.latitude, lon=site.longitude,height=site.height)"
   ]
  },
  {
   "cell_type": "code",
   "execution_count": 110,
   "metadata": {},
   "outputs": [],
   "source": [
    "nyears = 2.2\n",
    "mjd = np.arange(59853.5, 59853.5+365.25*nyears, 20./60/24.)\n",
    "times = Time(mjd, format='mjd', location=location)\n",
    "\n",
    "airmass_limit = 2.5 # demand airmass lower than this\n",
    "twilight_limit = -18.  # Sun below this altitude in degrees\n",
    "dist_to_moon_limit = 30.  # minimum distance to keep from moon degrees\n",
    "zenith_limit = 10.  # Need to be this far away from zenith to start (20 min = 5 deg)\n",
    "g_m5_limit = 23.5  # mags\n",
    "\n",
    "season_gap = 20.  # days. Count any gap longer than this as it's own season\n",
    "season_length_limit = 100 # Days. Demand at least this many days in a season\n",
    "\n",
    "# How long to keep attempting a DDF\n",
    "expire_dict = {1: 36./24., 2: 0.5}"
   ]
  },
  {
   "cell_type": "code",
   "execution_count": 4,
   "metadata": {},
   "outputs": [
    {
     "name": "stderr",
     "output_type": "stream",
     "text": [
      "WARNING: ErfaWarning: ERFA function \"utctai\" yielded 57856 of \"dubious year (Note 3)\" [astropy._erfa.core]\n",
      "WARNING: Tried to get polar motions for times after IERS data is valid. Defaulting to polar motion from the 50-yr mean for those. This may affect precision at the 10s of arcsec level [astropy.coordinates.builtin_frames.utils]\n",
      "WARNING: ErfaWarning: ERFA function \"utcut1\" yielded 57856 of \"dubious year (Note 3)\" [astropy._erfa.core]\n",
      "WARNING: ErfaWarning: ERFA function \"utctai\" yielded 57856 of \"dubious year (Note 3)\" [astropy._erfa.core]\n"
     ]
    }
   ],
   "source": [
    "sun_coords = get_sun(times)\n",
    "moon_coords = get_moon(times)"
   ]
  },
  {
   "cell_type": "code",
   "execution_count": 5,
   "metadata": {},
   "outputs": [
    {
     "name": "stderr",
     "output_type": "stream",
     "text": [
      "WARNING: ErfaWarning: ERFA function \"d2dtf\" yielded 1 of \"dubious year (Note 5)\" [astropy._erfa.core]\n"
     ]
    }
   ],
   "source": [
    "sched_downtime_data = ScheduledDowntimeData(Time(mjd[0], format='mjd'))\n",
    "observatory_up = np.ones(mjd.size, dtype=bool)\n",
    "for dt in sched_downtime_data():\n",
    "    indx = np.where((mjd >= dt['start'].mjd) & (mjd <= dt['end'].mjd))[0]\n",
    "    observatory_up[indx] = False\n"
   ]
  },
  {
   "cell_type": "code",
   "execution_count": 6,
   "metadata": {},
   "outputs": [],
   "source": [
    "lst = times.sidereal_time('mean')"
   ]
  },
  {
   "cell_type": "code",
   "execution_count": 7,
   "metadata": {},
   "outputs": [
    {
     "name": "stderr",
     "output_type": "stream",
     "text": [
      "WARNING: ErfaWarning: ERFA function \"apio13\" yielded 57856 of \"dubious year (Note 2)\" [astropy._erfa.core]\n"
     ]
    }
   ],
   "source": [
    "sun_altaz = sun_coords.transform_to(AltAz(location=location))\n",
    "\n",
    "# generate a night label for each timestep\n",
    "sun_rise = np.where((sun_altaz.alt[0:-1] < 0) & (sun_altaz.alt[1:] > 0))[0]\n",
    "night = np.zeros(mjd.size, dtype=int)\n",
    "night[sun_rise] = 1\n",
    "night = np.cumsum(night) + 1 #  1-index for night"
   ]
  },
  {
   "cell_type": "code",
   "execution_count": 8,
   "metadata": {},
   "outputs": [],
   "source": [
    "sun_down = np.where(sun_altaz.alt < twilight_limit*u.deg)[0]"
   ]
  },
  {
   "cell_type": "code",
   "execution_count": 9,
   "metadata": {},
   "outputs": [],
   "source": [
    "# ELAIS S1\n",
    "ddf_coord = SkyCoord(ra=9.45*u.deg, dec=-44.*u.deg)"
   ]
  },
  {
   "cell_type": "code",
   "execution_count": 10,
   "metadata": {},
   "outputs": [],
   "source": [
    "ddf_altaz = ddf_coord.transform_to(AltAz(location=location, obstime=times))\n",
    "ddf_airmass = 1./np.cos(np.radians(90.-ddf_altaz.az.deg))"
   ]
  },
  {
   "cell_type": "code",
   "execution_count": 11,
   "metadata": {},
   "outputs": [],
   "source": [
    "zenith = AltAz(alt=90.*u.deg, az=0.*u.deg)\n",
    "ddf_zenth_dist = zenith.separation(ddf_altaz)"
   ]
  },
  {
   "cell_type": "code",
   "execution_count": 12,
   "metadata": {},
   "outputs": [],
   "source": [
    "# HA = LST - RA\n",
    "ha = lst - ddf_coord.ra"
   ]
  },
  {
   "cell_type": "code",
   "execution_count": 13,
   "metadata": {},
   "outputs": [
    {
     "data": {
      "text/plain": [
       "<matplotlib.colorbar.Colorbar at 0x82718aa20>"
      ]
     },
     "execution_count": 13,
     "metadata": {},
     "output_type": "execute_result"
    },
    {
     "data": {
      "image/png": "[encoded data removed]",
      "text/plain": [
       "<Figure size 432x288 with 2 Axes>"
      ]
     },
     "metadata": {
      "needs_background": "light"
     },
     "output_type": "display_data"
    }
   ],
   "source": [
    "plt.scatter(mjd[0:200], ha[0:200], c=ddf_altaz.alt[0:200])\n",
    "plt.colorbar()"
   ]
  },
  {
   "cell_type": "code",
   "execution_count": null,
   "metadata": {},
   "outputs": [],
   "source": []
  },
  {
   "cell_type": "code",
   "execution_count": 14,
   "metadata": {},
   "outputs": [],
   "source": [
    "# need the moon, to avoid getting too close\n",
    "# Maybe airmass. and skybrightness. Probably only need 1-filter for skybrightness?\n",
    "# Should load up scheduled downtimes"
   ]
  },
  {
   "cell_type": "code",
   "execution_count": 15,
   "metadata": {},
   "outputs": [],
   "source": [
    "nside = 32\n",
    "ddf_indx = raDec2Hpid(nside,ddf_coord.ra.deg, ddf_coord.dec.deg)\n",
    "sm = SkyModelPre()"
   ]
  },
  {
   "cell_type": "code",
   "execution_count": 16,
   "metadata": {},
   "outputs": [],
   "source": [
    "g_sb = mjd*0+np.nan\n",
    "\n",
    "indices = np.where((sun_altaz.alt < twilight_limit*u.deg) & (ddf_airmass > airmass_limit))[0]\n",
    "# In theory, one could reach into the sky brightness model and do a much faster interpolation\n",
    "# There might be an airmass limit on the sky brightness.\n",
    "for indx in sun_down:\n",
    "    g_sb[indx] = sm.returnMags(mjd[indx], indx=[ddf_indx], filters='g', badval=np.nan)['g']"
   ]
  },
  {
   "cell_type": "code",
   "execution_count": 17,
   "metadata": {},
   "outputs": [
    {
     "data": {
      "text/plain": [
       "[<matplotlib.lines.Line2D at 0x829022710>]"
      ]
     },
     "execution_count": 17,
     "metadata": {},
     "output_type": "execute_result"
    },
    {
     "data": {
      "image/png": "[encoded data removed]",
      "text/plain": [
       "<Figure size 432x288 with 1 Axes>"
      ]
     },
     "metadata": {
      "needs_background": "light"
     },
     "output_type": "display_data"
    }
   ],
   "source": [
    "good = ~np.isnan(g_sb)\n",
    "plt.plot(mjd[good], g_sb[good])"
   ]
  },
  {
   "cell_type": "code",
   "execution_count": null,
   "metadata": {},
   "outputs": [],
   "source": []
  },
  {
   "cell_type": "code",
   "execution_count": 18,
   "metadata": {},
   "outputs": [
    {
     "data": {
      "text/plain": [
       "array([ 1.20977504,  1.20247557,  1.19877867, ..., -1.22307345,\n",
       "       -1.23785418, -1.25619914])"
      ]
     },
     "execution_count": 18,
     "metadata": {},
     "output_type": "execute_result"
    }
   ],
   "source": [
    "ddf_airmass[good]"
   ]
  },
  {
   "cell_type": "code",
   "execution_count": 19,
   "metadata": {},
   "outputs": [],
   "source": [
    "dist_to_moon = ddf_coord.separation(moon_coords)"
   ]
  },
  {
   "cell_type": "code",
   "execution_count": 20,
   "metadata": {},
   "outputs": [
    {
     "name": "stderr",
     "output_type": "stream",
     "text": [
      "/Users/yoachim/git_repos/sims_seeingModel/python/lsst/sims/seeingModel/seeingModel.py:126: RuntimeWarning: invalid value encountered in power\n",
      "  airmass_correction = np.power(airmass, 0.6)\n"
     ]
    }
   ],
   "source": [
    "seeing_model = SeeingModel()\n",
    "ddf_approx_fwhmEff = seeing_model(0.7, ddf_airmass)\n",
    "# I think this should pluck out the g-filter. Really should be labled\n",
    "ddf_approx_fwhmEff = ddf_approx_fwhmEff['fwhmEff'][1].ravel()"
   ]
  },
  {
   "cell_type": "code",
   "execution_count": 21,
   "metadata": {},
   "outputs": [],
   "source": [
    "ddf_m5 = m5_flat_sed('g', g_sb, ddf_approx_fwhmEff, 30., ddf_airmass, nexp=1.)"
   ]
  },
  {
   "cell_type": "code",
   "execution_count": 51,
   "metadata": {},
   "outputs": [
    {
     "name": "stderr",
     "output_type": "stream",
     "text": [
      "/Users/yoachim/lsst/python/miniconda3-4.5.12/envs/lsst-scipipe-1172c30/lib/python3.7/site-packages/ipykernel_launcher.py:5: RuntimeWarning: invalid value encountered in greater\n",
      "  \"\"\"\n",
      "/Users/yoachim/lsst/python/miniconda3-4.5.12/envs/lsst-scipipe-1172c30/lib/python3.7/site-packages/ipykernel_launcher.py:14: RuntimeWarning: invalid value encountered in greater\n",
      "  \n"
     ]
    },
    {
     "data": {
      "text/plain": [
       "[<matplotlib.lines.Line2D at 0x829365978>]"
      ]
     },
     "execution_count": 51,
     "metadata": {},
     "output_type": "execute_result"
    },
    {
     "data": {
      "image/png": "[encoded data removed]",
      "text/plain": [
       "<Figure size 432x288 with 1 Axes>"
      ]
     },
     "metadata": {
      "needs_background": "light"
     },
     "output_type": "display_data"
    }
   ],
   "source": [
    "# demand sun down past twilight, ddf is up, and observatory is open, and not too close to the moon\n",
    "good = np.where((ddf_airmass < airmass_limit) & (sun_altaz.alt < twilight_limit*u.deg) &\n",
    "                (ddf_airmass > 0) & (observatory_up == True) & (dist_to_moon > dist_to_moon_limit*u.deg) &\n",
    "               (ddf_zenth_dist > zenith_limit*u.deg) &\n",
    "               (ddf_m5 > g_m5_limit))\n",
    "plt.plot(mjd[good], ddf_m5[good])\n",
    "plt.xlabel('MJD')\n",
    "plt.ylabel('Nominal Seeing 5-sigma depth in g')\n",
    "\n",
    "# Let's see if there's any downtime that is causing gaps\n",
    "dt = np.where((ddf_airmass < airmass_limit) & (sun_altaz.alt < twilight_limit*u.deg) &\n",
    "                (ddf_airmass > 0) & (observatory_up == False) & (dist_to_moon > dist_to_moon_limit*u.deg)&\n",
    "                (ddf_zenth_dist > zenith_limit*u.deg)&\n",
    "               (ddf_m5 > g_m5_limit))\n",
    "plt.plot(mjd[dt], ddf_m5[dt], color='red')"
   ]
  },
  {
   "cell_type": "code",
   "execution_count": 23,
   "metadata": {},
   "outputs": [
    {
     "data": {
      "text/plain": [
       "(array([ 280,  281,  282, ..., 7431, 7447, 7463]),)"
      ]
     },
     "execution_count": 23,
     "metadata": {},
     "output_type": "execute_result"
    }
   ],
   "source": [
    "np.where(np.isnan(ddf_m5[good]) == True)"
   ]
  },
  {
   "cell_type": "code",
   "execution_count": 24,
   "metadata": {},
   "outputs": [
    {
     "data": {
      "text/plain": [
       "19.925886453865438"
      ]
     },
     "execution_count": 24,
     "metadata": {},
     "output_type": "execute_result"
    }
   ],
   "source": [
    "# A mystery nan from the sky brightness. Could be planet mask? Zenith mask?\n",
    "g_sb[good[0][25]]"
   ]
  },
  {
   "cell_type": "code",
   "execution_count": 61,
   "metadata": {},
   "outputs": [],
   "source": [
    "\n",
    "potential_nights = np.unique(night[good])\n",
    "night_gap = potential_nights[1:] - potential_nights[0:-1]\n",
    "big_gap = np.where(night_gap > season_gap)[0]+1\n",
    "season = potential_nights*0\n",
    "season[big_gap] = 1\n",
    "season = np.cumsum(season)"
   ]
  },
  {
   "cell_type": "code",
   "execution_count": 62,
   "metadata": {},
   "outputs": [],
   "source": [
    "# Now what do I want to do?  Make a list of potential nights. \n",
    "# Find gaps larger than N, place observations on either side, maybe two on leading side. \n",
    "# Then distribute the rest of the observations \"evenly\"\n",
    "# now with list of nights, schedule each night at best time.\n",
    "# set expiration time for each sequence.\n",
    "u_seasons = np.unique(season)\n",
    "season_lengths = []\n",
    "for se in u_seasons:\n",
    "    in_se = np.where(season == se)\n",
    "    season_lengths.append(np.max(potential_nights[in_se]) - np.min(potential_nights[in_se]))\n",
    "season_lengths = np.array(season_lengths)"
   ]
  },
  {
   "cell_type": "code",
   "execution_count": 63,
   "metadata": {},
   "outputs": [
    {
     "data": {
      "text/plain": [
       "array([ 47, 208,  36, 134])"
      ]
     },
     "execution_count": 63,
     "metadata": {},
     "output_type": "execute_result"
    }
   ],
   "source": [
    "season_lengths"
   ]
  },
  {
   "cell_type": "code",
   "execution_count": 68,
   "metadata": {},
   "outputs": [],
   "source": [
    "good_seasons = u_seasons[np.where(season_lengths > season_length_limit)[0]]\n",
    "gn = np.isin(season, good_seasons)\n",
    "potential_nights = potential_nights[gn]\n",
    "season = season[gn]\n"
   ]
  },
  {
   "cell_type": "code",
   "execution_count": 88,
   "metadata": {},
   "outputs": [],
   "source": [
    "def place_obs(nights, space=2):\n",
    "    \"\"\"Take some input nights and flag nights as observe or not\n",
    "    \"\"\"\n",
    "    # say 1 for an observation that can float 1.7 days, 2 for one that's good for 12 hours?\n",
    "    result = np.zeros(nights.size, dtype=int) \n",
    "    # Place observations before and after each large gap\n",
    "    gaps = nights*0\n",
    "    gaps[1:] = nights[1:] - nights[0:-1]\n",
    "    gaps[0] = space\n",
    "    after_gap = np.where(gaps >= space)[0]\n",
    "    result[after_gap] = 1\n",
    "    pre_gap = after_gap[1:]-1\n",
    "    result[pre_gap] = 2\n",
    "    \n",
    "\n",
    "    for i, night in enumerate(nights):\n",
    "        if result[i] > 0:\n",
    "            last_obs_indx = i\n",
    "        elif (night-nights[last_obs_indx]) >= space:\n",
    "            result[i] = 1\n",
    "            last_obs_indx = i\n",
    "    return result"
   ]
  },
  {
   "cell_type": "code",
   "execution_count": 91,
   "metadata": {},
   "outputs": [],
   "source": [
    "obs_attempts = []\n",
    "for sea in np.unique(season):\n",
    "    night_indx = np.where(season == sea)\n",
    "    obs_attempts.append(place_obs(potential_nights[night_indx]))\n",
    "obs_attempts = np.concatenate(obs_attempts)"
   ]
  },
  {
   "cell_type": "code",
   "execution_count": 111,
   "metadata": {},
   "outputs": [],
   "source": [
    "# now need to place the observations within the night\n",
    "mjd_observe = []\n",
    "for indx in np.where(obs_attempts > 0)[0]:\n",
    "    in_night_indx = np.where(night == potential_nights[indx])[0]\n",
    "    best_depth_indx = np.where(ddf_m5[in_night_indx] == np.nanmin(ddf_m5[in_night_indx]))[0]\n",
    "    mjd_start = mjd[in_night_indx[best_depth_indx]].max()\n",
    "    mjd_end = mjd_start + expire_dict[obs_attempts[indx]]\n",
    "    mjd_observe.append((mjd_start, mjd_end))"
   ]
  },
  {
   "cell_type": "code",
   "execution_count": 112,
   "metadata": {},
   "outputs": [
    {
     "data": {
      "text/plain": [
       "[(60058.40277780163, 60058.90277780163),\n",
       " (60060.402777801864, 60061.902777801864),\n",
       " (60062.4027778021, 60063.9027778021),\n",
       " (60064.40277780233, 60065.90277780233),\n",
       " (60066.38888891367, 60067.88888891367),\n",
       " (60067.3750000249, 60067.8750000249),\n",
       " (60076.361111137056, 60077.861111137056),\n",
       " (60078.3472222484, 60079.8472222484),\n",
       " (60080.34722224863, 60081.84722224863),\n",
       " (60082.34722224886, 60083.84722224886),\n",
       " (60084.333333360206, 60085.833333360206),\n",
       " (60086.33333336044, 60087.83333336044),\n",
       " (60088.31944447178, 60089.81944447178),\n",
       " (60090.319444472014, 60091.819444472014),\n",
       " (60092.31944447225, 60093.81944447225),\n",
       " (60094.31944447248, 60095.81944447248),\n",
       " (60096.30555558382, 60097.80555558382),\n",
       " (60097.30555558394, 60097.80555558394),\n",
       " (60110.26388891878, 60111.76388891878),\n",
       " (60112.26388891901, 60113.76388891901),\n",
       " (60114.250000030355, 60115.750000030355),\n",
       " (60116.25000003059, 60117.75000003059),\n",
       " (60118.41666669751, 60119.91666669751),\n",
       " (60120.41666669774, 60121.91666669774),\n",
       " (60122.41666669797, 60123.91666669797),\n",
       " (60124.23611114263, 60125.73611114263),\n",
       " (60126.22222225397, 60126.72222225397),\n",
       " (60134.41666669937, 60135.91666669937),\n",
       " (60136.4166666996, 60137.9166666996),\n",
       " (60138.402777810945, 60139.902777810945),\n",
       " (60140.40277781118, 60141.90277781118),\n",
       " (60142.40277781141, 60143.90277781141),\n",
       " (60144.38888892275, 60145.88888892275),\n",
       " (60146.388888922986, 60147.888888922986),\n",
       " (60148.37500003433, 60149.87500003433),\n",
       " (60150.37500003456, 60151.87500003456),\n",
       " (60152.37500003479, 60153.87500003479),\n",
       " (60154.361111146136, 60154.861111146136),\n",
       " (60162.34722225818, 60163.84722225818),\n",
       " (60164.33333336952, 60165.83333336952),\n",
       " (60166.33333336975, 60167.83333336975),\n",
       " (60168.319444481094, 60169.819444481094),\n",
       " (60170.31944448133, 60171.81944448133),\n",
       " (60172.31944448156, 60173.81944448156),\n",
       " (60174.3055555929, 60175.8055555929),\n",
       " (60176.305555593135, 60177.805555593135),\n",
       " (60178.30555559337, 60179.80555559337),\n",
       " (60180.29166670471, 60181.79166670471),\n",
       " (60182.29166670494, 60182.79166670494),\n",
       " (60190.26388892809, 60191.76388892809),\n",
       " (60192.263888928326, 60193.763888928326),\n",
       " (60194.25000003967, 60195.75000003967),\n",
       " (60196.2500000399, 60197.7500000399),\n",
       " (60198.250000040134, 60199.750000040134),\n",
       " (60200.23611115148, 60201.73611115148),\n",
       " (60202.23611115171, 60203.73611115171),\n",
       " (60204.22222226305, 60205.72222226305),\n",
       " (60206.222222263284, 60207.722222263284),\n",
       " (60208.22222226352, 60209.72222226352),\n",
       " (60210.20833337486, 60211.70833337486),\n",
       " (60211.208333374976, 60211.708333374976),\n",
       " (60218.1944444869, 60219.6944444869),\n",
       " (60220.18055559824, 60221.68055559824),\n",
       " (60222.180555598476, 60223.680555598476),\n",
       " (60224.16666670982, 60225.66666670982),\n",
       " (60226.16666671005, 60227.66666671005),\n",
       " (60228.16666671028, 60229.66666671028),\n",
       " (60230.152777821626, 60231.652777821626),\n",
       " (60232.15277782186, 60233.65277782186),\n",
       " (60234.15277782209, 60235.65277782209),\n",
       " (60236.138888933434, 60237.638888933434),\n",
       " (60238.13888893367, 60239.63888893367),\n",
       " (60240.12500004501, 60240.62500004501),\n",
       " (60248.11111115705, 60249.61111115705),\n",
       " (60250.09722226839, 60251.59722226839),\n",
       " (60251.09722226851, 60251.59722226851),\n",
       " (60259.08333338055, 60260.58333338055),\n",
       " (60261.06944449189, 60262.56944449189),\n",
       " (60263.069444492125, 60264.569444492125),\n",
       " (60265.05555560347, 60266.55555560347),\n",
       " (60489.4166667407, 60490.9166667407),\n",
       " (60491.41666674093, 60492.91666674093),\n",
       " (60493.41666674116, 60494.91666674116),\n",
       " (60495.416666741396, 60496.916666741396),\n",
       " (60497.41666674163, 60498.91666674163),\n",
       " (60499.41666674186, 60500.91666674186),\n",
       " (60501.416666742094, 60502.916666742094),\n",
       " (60503.40277785344, 60504.90277785344),\n",
       " (60505.40277785367, 60506.90277785367),\n",
       " (60507.4027778539, 60508.9027778539),\n",
       " (60508.18055563177, 60508.68055563177),\n",
       " (60517.375000077285, 60518.875000077285),\n",
       " (60519.36111118863, 60520.86111118863),\n",
       " (60521.36111118886, 60522.86111118886),\n",
       " (60523.36111118909, 60524.86111118909),\n",
       " (60525.347222300436, 60526.847222300436),\n",
       " (60527.34722230067, 60528.84722230067),\n",
       " (60529.33333341201, 60530.83333341201),\n",
       " (60531.33333341224, 60532.83333341224),\n",
       " (60533.333333412476, 60534.833333412476),\n",
       " (60535.31944452382, 60536.81944452382),\n",
       " (60536.319444523935, 60536.819444523935),\n",
       " (60545.2916667472, 60546.7916667472),\n",
       " (60547.291666747435, 60548.791666747435),\n",
       " (60549.27777785878, 60550.77777785878),\n",
       " (60551.27777785901, 60552.77777785901),\n",
       " (60553.27777785924, 60554.77777785924),\n",
       " (60555.263888970585, 60556.763888970585),\n",
       " (60557.26388897082, 60558.76388897082),\n",
       " (60559.25000008216, 60560.75000008216),\n",
       " (60561.25000008239, 60562.75000008239),\n",
       " (60563.250000082626, 60564.750000082626),\n",
       " (60565.23611119397, 60565.73611119397),\n",
       " (60573.22222230601, 60574.72222230601),\n",
       " (60575.20833341735, 60576.70833341735),\n",
       " (60577.208333417584, 60578.708333417584),\n",
       " (60579.20833341782, 60580.70833341782),\n",
       " (60581.19444452916, 60582.69444452916),\n",
       " (60583.19444452939, 60584.69444452939),\n",
       " (60585.180555640734, 60586.680555640734),\n",
       " (60587.18055564097, 60588.68055564097),\n",
       " (60589.1805556412, 60590.6805556412),\n",
       " (60591.16666675254, 60592.66666675254),\n",
       " (60593.166666752775, 60594.666666752775),\n",
       " (60595.15277786412, 60595.65277786412),\n",
       " (60602.13888897604, 60603.63888897604),\n",
       " (60604.138888976275, 60605.638888976275),\n",
       " (60606.12500008762, 60607.62500008762),\n",
       " (60608.12500008785, 60609.62500008785),\n",
       " (60610.11111119919, 60611.61111119919),\n",
       " (60612.111111199425, 60613.611111199425),\n",
       " (60614.11111119966, 60615.61111119966),\n",
       " (60616.097222311, 60617.597222311),\n",
       " (60618.09722231123, 60619.59722231123),\n",
       " (60620.083333422575, 60621.583333422575),\n",
       " (60622.08333342281, 60623.58333342281)]"
      ]
     },
     "execution_count": 112,
     "metadata": {},
     "output_type": "execute_result"
    }
   ],
   "source": [
    "mjd_observe"
   ]
  },
  {
   "cell_type": "code",
   "execution_count": null,
   "metadata": {},
   "outputs": [],
   "source": []
  },
  {
   "cell_type": "code",
   "execution_count": null,
   "metadata": {},
   "outputs": [],
   "source": []
  }
 ],
 "metadata": {
  "kernelspec": {
   "display_name": "Python 3",
   "language": "python",
   "name": "python3"
  },
  "language_info": {
   "codemirror_mode": {
    "name": "ipython",
    "version": 3
   },
   "file_extension": ".py",
   "mimetype": "text/x-python",
   "name": "python",
   "nbconvert_exporter": "python",
   "pygments_lexer": "ipython3",
   "version": "3.7.2"
  }
 },
 "nbformat": 4,
 "nbformat_minor": 2
}
