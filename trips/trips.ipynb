{
 "cells": [
  {
   "cell_type": "code",
   "execution_count": 1,
   "metadata": {},
   "outputs": [],
   "source": [
    "import numpy as np\n",
    "import matplotlib.pylab as plt\n",
    "%matplotlib inline\n",
    "from datetime import date\n",
    "\n"
   ]
  },
  {
   "cell_type": "code",
   "execution_count": 2,
   "metadata": {},
   "outputs": [],
   "source": [
    "years = []\n",
    "starts = []\n",
    "ends = []\n",
    "f = open('triplog.dat')\n",
    "for line in f:\n",
    "    years.append(line.split(',')[1].strip())\n",
    "    starts.append(line.split('-')[0])\n",
    "    ends.append(line.split('-')[1].split(',')[0].strip())\n",
    "f.close()\n",
    "start_months = [st.split(' ')[0] for st in starts]"
   ]
  },
  {
   "cell_type": "code",
   "execution_count": 3,
   "metadata": {},
   "outputs": [],
   "source": [
    "month_dict = {'Jan': '01', 'Feb': '02', 'Mar': '03', 'Apr': '04', 'May': '05',\n",
    "             'Jun': '06', 'Jul': '07', 'Aug': '08', 'Sep': '09', 'Oct': '10',\n",
    "              'Nov': '11', 'Dec': '12'}"
   ]
  },
  {
   "cell_type": "code",
   "execution_count": 4,
   "metadata": {},
   "outputs": [],
   "source": [
    "end_months = []\n",
    "for end,start in zip(ends, start_months):\n",
    "    if len(end) < 3:\n",
    "        end_months.append(start)\n",
    "    else:\n",
    "        end_months.append(end.split(' ')[0])"
   ]
  },
  {
   "cell_type": "code",
   "execution_count": 5,
   "metadata": {},
   "outputs": [],
   "source": [
    "on_trip = []\n",
    "for i in range(len(start_months)):\n",
    "    date_str1 = years[i]+'-'+month_dict[start_months[i]]+'-'+starts[i].split(' ')[1]\n",
    "    date_str2 = years[i]+'-'+month_dict[end_months[i]]+'-'+ends[i].split(' ')[-1]\n",
    "    on_trip.append(np.arange(date_str1, date_str2, dtype='datetime64[D]'))"
   ]
  },
  {
   "cell_type": "code",
   "execution_count": 6,
   "metadata": {},
   "outputs": [],
   "source": [
    "on_trip = np.concatenate(on_trip)"
   ]
  },
  {
   "cell_type": "code",
   "execution_count": 7,
   "metadata": {},
   "outputs": [],
   "source": [
    "today = date.today()\n",
    "\n",
    "all_dates = np.arange(np.min(on_trip), today.strftime(\"%Y-%m-%d\"), dtype='datetime64[D]')"
   ]
  },
  {
   "cell_type": "code",
   "execution_count": 8,
   "metadata": {},
   "outputs": [],
   "source": [
    "inter, indx1, indx2 = np.intersect1d(all_dates, on_trip, return_indices=True)"
   ]
  },
  {
   "cell_type": "code",
   "execution_count": 9,
   "metadata": {},
   "outputs": [],
   "source": [
    "y = np.zeros(all_dates.size)\n",
    "y[indx1] = 1"
   ]
  },
  {
   "cell_type": "code",
   "execution_count": 10,
   "metadata": {},
   "outputs": [
    {
     "data": {
      "text/plain": [
       "[<matplotlib.lines.Line2D at 0x11b02ea20>]"
      ]
     },
     "execution_count": 10,
     "metadata": {},
     "output_type": "execute_result"
    },
    {
     "data": {
      "image/png": "[encoded data removed]",
      "text/plain": [
       "<Figure size 432x288 with 1 Axes>"
      ]
     },
     "metadata": {
      "needs_background": "light"
     },
     "output_type": "display_data"
    }
   ],
   "source": [
    "plt.plot(all_dates, y)"
   ]
  },
  {
   "cell_type": "code",
   "execution_count": 11,
   "metadata": {},
   "outputs": [],
   "source": [
    "day = np.arange(y.size)"
   ]
  },
  {
   "cell_type": "code",
   "execution_count": 12,
   "metadata": {},
   "outputs": [],
   "source": [
    "ot = np.where(y == 1)"
   ]
  },
  {
   "cell_type": "code",
   "execution_count": 13,
   "metadata": {},
   "outputs": [],
   "source": [
    "gaps = day[ot][1:] -day[ot][:-1]"
   ]
  },
  {
   "cell_type": "code",
   "execution_count": 14,
   "metadata": {},
   "outputs": [
    {
     "data": {
      "text/plain": [
       "array([  5, 209,  23,  43,  65, 137,  52, 158,  58,  62,  22,   3,  31,\n",
       "        40,  11,  45,  45,  18, 102,  15,  24,  10, 124,  25,  16,   9,\n",
       "       133,  15,   2, 111,  68,  10,  74,   3,  53,  17,  10,  18,  35,\n",
       "        15,  71,  23,   3, 105,  16,  11,  14,   7,   8,  50,  50,  56])"
      ]
     },
     "execution_count": 14,
     "metadata": {},
     "output_type": "execute_result"
    }
   ],
   "source": [
    "gaps[np.where(gaps > 1)]"
   ]
  },
  {
   "cell_type": "code",
   "execution_count": 15,
   "metadata": {},
   "outputs": [
    {
     "data": {
      "text/plain": [
       "209"
      ]
     },
     "execution_count": 15,
     "metadata": {},
     "output_type": "execute_result"
    }
   ],
   "source": [
    "np.max(gaps)"
   ]
  },
  {
   "cell_type": "code",
   "execution_count": 16,
   "metadata": {},
   "outputs": [
    {
     "data": {
      "text/plain": [
       "(246.0, 0.09400076423385556)"
      ]
     },
     "execution_count": 16,
     "metadata": {},
     "output_type": "execute_result"
    }
   ],
   "source": [
    "np.sum(y), np.sum(y)/np.size(y)"
   ]
  },
  {
   "cell_type": "code",
   "execution_count": 20,
   "metadata": {},
   "outputs": [
    {
     "name": "stdout",
     "output_type": "stream",
     "text": [
      "current days with no trip= 94\n"
     ]
    }
   ],
   "source": [
    "current_gap = np.size(y) - np.max(np.where(y == 1))\n",
    "print('current days with no trip=', current_gap)"
   ]
  },
  {
   "cell_type": "code",
   "execution_count": 34,
   "metadata": {},
   "outputs": [
    {
     "data": {
      "text/plain": [
       "array(['2013-03-29', '2014-03-26', '2014-10-08', '2016-03-15',\n",
       "       '2016-08-31', '2017-03-11', '2017-08-22', '2019-02-28'],\n",
       "      dtype='datetime64[D]')"
      ]
     },
     "execution_count": 34,
     "metadata": {},
     "output_type": "execute_result"
    }
   ],
   "source": [
    "all_dates[ot][np.where(gaps > current_gap)[0]]"
   ]
  },
  {
   "cell_type": "code",
   "execution_count": 33,
   "metadata": {},
   "outputs": [
    {
     "name": "stdout",
     "output_type": "stream",
     "text": [
      "longest gap since 2019-02-28\n"
     ]
    }
   ],
   "source": [
    "print('longest gap since', all_dates[ot][np.where(gaps > current_gap)][-1])"
   ]
  },
  {
   "cell_type": "code",
   "execution_count": null,
   "metadata": {},
   "outputs": [],
   "source": []
  }
 ],
 "metadata": {
  "kernelspec": {
   "display_name": "Python 3",
   "language": "python",
   "name": "python3"
  },
  "language_info": {
   "codemirror_mode": {
    "name": "ipython",
    "version": 3
   },
   "file_extension": ".py",
   "mimetype": "text/x-python",
   "name": "python",
   "nbconvert_exporter": "python",
   "pygments_lexer": "ipython3",
   "version": "3.7.2"
  }
 },
 "nbformat": 4,
 "nbformat_minor": 2
}
