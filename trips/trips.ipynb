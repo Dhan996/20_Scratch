{
 "cells": [
  {
   "cell_type": "code",
   "execution_count": 1,
   "metadata": {},
   "outputs": [],
   "source": [
    "import numpy as np\n",
    "import matplotlib.pylab as plt\n",
    "%matplotlib inline\n",
    "from datetime import date\n",
    "\n"
   ]
  },
  {
   "cell_type": "code",
   "execution_count": 2,
   "metadata": {},
   "outputs": [],
   "source": [
    "years = []\n",
    "starts = []\n",
    "ends = []\n",
    "f = open('triplog.dat')\n",
    "for line in f:\n",
    "    years.append(line.split(',')[1].strip())\n",
    "    starts.append(line.split('-')[0])\n",
    "    ends.append(line.split('-')[1].split(',')[0].strip())\n",
    "f.close()\n",
    "start_months = [st.split(' ')[0] for st in starts]"
   ]
  },
  {
   "cell_type": "code",
   "execution_count": 3,
   "metadata": {},
   "outputs": [],
   "source": [
    "month_dict = {'Jan': '01', 'Feb': '02', 'Mar': '03', 'Apr': '04', 'May': '05',\n",
    "             'Jun': '06', 'Jul': '07', 'Aug': '08', 'Sep': '09', 'Oct': '10',\n",
    "              'Nov': '11', 'Dec': '12'}"
   ]
  },
  {
   "cell_type": "code",
   "execution_count": 4,
   "metadata": {},
   "outputs": [],
   "source": [
    "end_months = []\n",
    "for end,start in zip(ends, start_months):\n",
    "    if len(end) < 3:\n",
    "        end_months.append(start)\n",
    "    else:\n",
    "        end_months.append(end.split(' ')[0])"
   ]
  },
  {
   "cell_type": "code",
   "execution_count": 5,
   "metadata": {},
   "outputs": [],
   "source": [
    "on_trip = []\n",
    "for i in range(len(start_months)):\n",
    "    date_str1 = years[i]+'-'+month_dict[start_months[i]]+'-'+starts[i].split(' ')[1]\n",
    "    date_str2 = years[i]+'-'+month_dict[end_months[i]]+'-'+ends[i].split(' ')[-1]\n",
    "    on_trip.append(np.arange(date_str1, date_str2, dtype='datetime64[D]'))"
   ]
  },
  {
   "cell_type": "code",
   "execution_count": 6,
   "metadata": {},
   "outputs": [],
   "source": [
    "on_trip = np.concatenate(on_trip)"
   ]
  },
  {
   "cell_type": "code",
   "execution_count": 7,
   "metadata": {},
   "outputs": [],
   "source": [
    "today = date.today()\n",
    "\n",
    "all_dates = np.arange(np.min(on_trip), today.strftime(\"%Y-%m-%d\"), dtype='datetime64[D]')"
   ]
  },
  {
   "cell_type": "code",
   "execution_count": 8,
   "metadata": {},
   "outputs": [],
   "source": [
    "inter, indx1, indx2 = np.intersect1d(all_dates, on_trip, return_indices=True)"
   ]
  },
  {
   "cell_type": "code",
   "execution_count": 9,
   "metadata": {},
   "outputs": [],
   "source": [
    "y = np.zeros(all_dates.size)\n",
    "y[indx1] = 1"
   ]
  },
  {
   "cell_type": "code",
   "execution_count": 10,
   "metadata": {},
   "outputs": [
    {
     "data": {
      "text/plain": [
       "[<matplotlib.lines.Line2D at 0x7fc817204d68>]"
      ]
     },
     "execution_count": 10,
     "metadata": {},
     "output_type": "execute_result"
    },
    {
     "data": {
      "image/png": "[encoded data removed]",
      "text/plain": [
       "<Figure size 432x288 with 1 Axes>"
      ]
     },
     "metadata": {
      "needs_background": "light"
     },
     "output_type": "display_data"
    }
   ],
   "source": [
    "plt.plot(all_dates, y)"
   ]
  },
  {
   "cell_type": "code",
   "execution_count": 11,
   "metadata": {},
   "outputs": [],
   "source": [
    "day = np.arange(y.size)"
   ]
  },
  {
   "cell_type": "code",
   "execution_count": 12,
   "metadata": {},
   "outputs": [],
   "source": [
    "ot = np.where(y == 1)"
   ]
  },
  {
   "cell_type": "code",
   "execution_count": 13,
   "metadata": {},
   "outputs": [],
   "source": [
    "gaps = day[ot][1:] -day[ot][:-1]"
   ]
  },
  {
   "cell_type": "code",
   "execution_count": 14,
   "metadata": {},
   "outputs": [
    {
     "data": {
      "text/plain": [
       "array([  5, 209,  23,  43,  65, 137,  52, 158,  58,  62,  22,   3,  31,\n",
       "        40,  11,  45,  45,  18, 102,  15,  24,  10, 124,  25,  16,   9,\n",
       "       133,  15,   2, 111,  68,  10,  74,   3,  53,  17,  10,  18,  35,\n",
       "        15,  71,  23,   3, 105,  16,  11,  14,   7,   8,  50,  50,  56])"
      ]
     },
     "execution_count": 14,
     "metadata": {},
     "output_type": "execute_result"
    }
   ],
   "source": [
    "gaps[np.where(gaps > 1)]"
   ]
  },
  {
   "cell_type": "code",
   "execution_count": 15,
   "metadata": {},
   "outputs": [
    {
     "data": {
      "text/plain": [
       "209"
      ]
     },
     "execution_count": 15,
     "metadata": {},
     "output_type": "execute_result"
    }
   ],
   "source": [
    "np.max(gaps)"
   ]
  },
  {
   "cell_type": "code",
   "execution_count": 16,
   "metadata": {},
   "outputs": [
    {
     "data": {
      "text/plain": [
       "(246.0, 0.09158600148920328)"
      ]
     },
     "execution_count": 16,
     "metadata": {},
     "output_type": "execute_result"
    }
   ],
   "source": [
    "np.sum(y), np.sum(y)/np.size(y)"
   ]
  },
  {
   "cell_type": "code",
   "execution_count": 17,
   "metadata": {},
   "outputs": [
    {
     "name": "stdout",
     "output_type": "stream",
     "text": [
      "current days with no trip= 163\n"
     ]
    }
   ],
   "source": [
    "current_gap = np.size(y) - np.max(np.where(y == 1))\n",
    "print('current days with no trip=', current_gap)"
   ]
  },
  {
   "cell_type": "code",
   "execution_count": 18,
   "metadata": {},
   "outputs": [
    {
     "data": {
      "text/plain": [
       "array(['2013-03-29'], dtype='datetime64[D]')"
      ]
     },
     "execution_count": 18,
     "metadata": {},
     "output_type": "execute_result"
    }
   ],
   "source": [
    "all_dates[ot][np.where(gaps > current_gap)[0]]"
   ]
  },
  {
   "cell_type": "code",
   "execution_count": 19,
   "metadata": {},
   "outputs": [
    {
     "name": "stdout",
     "output_type": "stream",
     "text": [
      "longest gap since 2013-03-29\n"
     ]
    }
   ],
   "source": [
    "print('longest gap since', all_dates[ot][np.where(gaps > current_gap)][-1])"
   ]
  },
  {
   "cell_type": "code",
   "execution_count": 25,
   "metadata": {},
   "outputs": [
    {
     "data": {
      "text/plain": [
       "array(['2020-02-01', '2020-02-02', '2020-02-03', '2020-02-04',\n",
       "       '2020-02-05', '2020-02-06', '2020-02-07', '2020-02-08',\n",
       "       '2019-12-06', '2019-12-07', '2019-10-14', '2019-10-15',\n",
       "       '2019-10-16', '2019-10-17', '2019-08-23', '2019-08-24',\n",
       "       '2019-08-25', '2019-08-11', '2019-08-12', '2019-08-13',\n",
       "       '2019-08-14', '2019-08-15', '2019-08-03', '2019-08-04',\n",
       "       '2019-07-12', '2019-07-13', '2019-07-14', '2019-07-15',\n",
       "       '2019-07-16', '2019-07-17', '2019-07-18', '2019-07-19',\n",
       "       '2019-07-20', '2019-07-01', '2019-06-13', '2019-06-14',\n",
       "       '2019-06-15', '2019-02-25', '2019-02-26', '2019-02-27',\n",
       "       '2019-02-28', '2019-02-16', '2019-02-17', '2019-02-18',\n",
       "       '2019-02-19', '2019-02-20', '2019-02-21', '2019-02-22',\n",
       "       '2019-01-21', '2019-01-22', '2019-01-23', '2019-01-24',\n",
       "       '2018-11-09', '2018-11-10', '2018-11-11', '2018-10-23',\n",
       "       '2018-10-24', '2018-10-25', '2018-09-16', '2018-09-17',\n",
       "       '2018-09-18', '2018-08-26', '2018-08-27', '2018-08-28',\n",
       "       '2018-08-29', '2018-08-12', '2018-08-13', '2018-08-14',\n",
       "       '2018-08-15', '2018-08-16', '2018-07-23', '2018-07-24',\n",
       "       '2018-07-25', '2018-07-26', '2018-05-29', '2018-05-30',\n",
       "       '2018-05-31', '2018-05-21', '2018-05-22', '2018-05-23',\n",
       "       '2018-05-24', '2018-05-25', '2018-05-26', '2018-03-05',\n",
       "       '2018-03-06', '2018-03-07', '2018-03-08', '2018-02-18',\n",
       "       '2018-02-19', '2018-02-20', '2018-02-21', '2018-02-22',\n",
       "       '2018-02-23', '2017-12-11', '2017-12-12', '2017-08-19',\n",
       "       '2017-08-20', '2017-08-21', '2017-08-22', '2017-08-13',\n",
       "       '2017-08-14', '2017-08-15', '2017-08-16', '2017-08-17',\n",
       "       '2017-07-22', '2017-07-23', '2017-07-24', '2017-07-25',\n",
       "       '2017-07-26', '2017-07-27', '2017-07-28', '2017-07-29',\n",
       "       '2017-03-05', '2017-03-06', '2017-03-07', '2017-03-08',\n",
       "       '2017-03-09', '2017-03-10', '2017-03-11', '2017-02-18',\n",
       "       '2017-02-19', '2017-02-20', '2017-02-21', '2017-02-22',\n",
       "       '2017-02-23', '2017-02-24', '2017-01-31', '2017-02-01',\n",
       "       '2017-02-02', '2017-01-02', '2017-01-03', '2017-01-04',\n",
       "       '2017-01-05', '2017-01-06', '2016-08-28', '2016-08-29',\n",
       "       '2016-08-30', '2016-08-31', '2016-08-14', '2016-08-15',\n",
       "       '2016-08-16', '2016-08-17', '2016-08-18', '2016-07-16',\n",
       "       '2016-07-17', '2016-07-18', '2016-07-19', '2016-07-20',\n",
       "       '2016-07-21', '2016-06-25', '2016-06-26', '2016-06-27',\n",
       "       '2016-06-28', '2016-06-29', '2016-06-30', '2016-07-01',\n",
       "       '2016-03-13', '2016-03-14', '2016-03-15', '2016-02-21',\n",
       "       '2016-02-22', '2016-02-23', '2016-02-24', '2016-01-03',\n",
       "       '2016-01-04', '2016-01-05', '2016-01-06', '2016-01-07',\n",
       "       '2015-11-18', '2015-11-19', '2015-11-05', '2015-11-06',\n",
       "       '2015-11-07', '2015-09-25', '2015-09-26', '2015-08-24',\n",
       "       '2015-08-25', '2015-08-16', '2015-08-17', '2015-08-18',\n",
       "       '2015-08-19', '2015-08-20', '2015-08-21', '2015-07-22',\n",
       "       '2015-07-23', '2015-07-24', '2015-07-25', '2015-05-16',\n",
       "       '2015-05-17', '2015-05-18', '2015-05-19', '2015-05-20',\n",
       "       '2015-05-21', '2015-03-15', '2015-03-16', '2015-03-17',\n",
       "       '2015-03-18', '2015-03-19', '2014-10-05', '2014-10-06',\n",
       "       '2014-10-07', '2014-10-08', '2014-08-10', '2014-08-11',\n",
       "       '2014-08-12', '2014-08-13', '2014-08-14', '2014-03-23',\n",
       "       '2014-03-24', '2014-03-25', '2014-03-26', '2014-01-05',\n",
       "       '2014-01-06', '2014-01-07', '2014-01-08', '2014-01-04',\n",
       "       '2014-01-05', '2014-01-06', '2014-01-07', '2014-01-08',\n",
       "       '2014-01-09', '2014-01-10', '2014-01-11', '2014-01-12',\n",
       "       '2014-01-13', '2014-01-14', '2014-01-15', '2014-01-16',\n",
       "       '2014-01-17', '2013-11-16', '2013-11-17', '2013-11-18',\n",
       "       '2013-11-19', '2013-11-20', '2013-11-21', '2013-11-22',\n",
       "       '2013-10-24', '2013-03-22', '2013-03-23', '2013-03-24',\n",
       "       '2013-03-25', '2013-03-26', '2013-03-27', '2013-03-28',\n",
       "       '2013-03-29', '2013-03-13', '2013-03-14', '2013-03-15',\n",
       "       '2013-03-16', '2013-03-17'], dtype='datetime64[D]')"
      ]
     },
     "execution_count": 25,
     "metadata": {},
     "output_type": "execute_result"
    }
   ],
   "source": [
    "on_trip"
   ]
  },
  {
   "cell_type": "code",
   "execution_count": null,
   "metadata": {},
   "outputs": [],
   "source": []
  },
  {
   "cell_type": "code",
   "execution_count": null,
   "metadata": {},
   "outputs": [],
   "source": []
  }
 ],
 "metadata": {
  "kernelspec": {
   "display_name": "Python 3",
   "language": "python",
   "name": "python3"
  },
  "language_info": {
   "codemirror_mode": {
    "name": "ipython",
    "version": 3
   },
   "file_extension": ".py",
   "mimetype": "text/x-python",
   "name": "python",
   "nbconvert_exporter": "python",
   "pygments_lexer": "ipython3",
   "version": "3.7.2"
  }
 },
 "nbformat": 4,
 "nbformat_minor": 2
}
