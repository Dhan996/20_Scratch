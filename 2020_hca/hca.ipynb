{
 "cells": [
  {
   "cell_type": "code",
   "execution_count": null,
   "metadata": {},
   "outputs": [],
   "source": [
    "# Checking home court advantage in the NFL"
   ]
  },
  {
   "cell_type": "code",
   "execution_count": 1,
   "metadata": {},
   "outputs": [],
   "source": [
    "import numpy as np"
   ]
  },
  {
   "cell_type": "code",
   "execution_count": 2,
   "metadata": {},
   "outputs": [],
   "source": [
    "home_wins = 6+5+4+1+7+5+5+3+5+5+2+1+6+2+4+2+3+4+2+3+7+3+3+1+6+4+2+2+7+5+4+1\n",
    "home_losses = 1+3+3+7+1+3+2+4+3+2+5+7+1+6+4+5+5+4+5+3+1+4+5+6+2+3+5+6+1+2+4+6"
   ]
  },
  {
   "cell_type": "code",
   "execution_count": 3,
   "metadata": {},
   "outputs": [],
   "source": [
    "#home_wins = 4+3+3+0+5+2+4+2+3+4+1+1+4+2+1+1+2+2+2+2+3+2+1+1+4+3+1+1+5+4+3+1\n",
    "#home_losses = 1+2+2+5+0+2+1+2+1+2+3+3+1+2+3+3+2+3+3+3+1+3+3+3+1+1+4+4+0+0+2+4"
   ]
  },
  {
   "cell_type": "code",
   "execution_count": 4,
   "metadata": {},
   "outputs": [
    {
     "data": {
      "text/plain": [
       "(120, 119)"
      ]
     },
     "execution_count": 4,
     "metadata": {},
     "output_type": "execute_result"
    }
   ],
   "source": [
    "home_wins, home_losses"
   ]
  },
  {
   "cell_type": "code",
   "execution_count": 5,
   "metadata": {},
   "outputs": [],
   "source": [
    "n = home_wins + home_losses\n",
    "p = 0.5"
   ]
  },
  {
   "cell_type": "code",
   "execution_count": 6,
   "metadata": {},
   "outputs": [
    {
     "data": {
      "text/plain": [
       "119.5"
      ]
     },
     "execution_count": 6,
     "metadata": {},
     "output_type": "execute_result"
    }
   ],
   "source": [
    "# expected value \n",
    "n*p"
   ]
  },
  {
   "cell_type": "code",
   "execution_count": 7,
   "metadata": {},
   "outputs": [
    {
     "data": {
      "text/plain": [
       "7.729812416870153"
      ]
     },
     "execution_count": 7,
     "metadata": {},
     "output_type": "execute_result"
    }
   ],
   "source": [
    "std = ((n*p)*(1.-p))**0.5\n",
    "std"
   ]
  },
  {
   "cell_type": "code",
   "execution_count": 8,
   "metadata": {},
   "outputs": [],
   "source": [
    "# so at the moment, the NFL is within 1 stadard deviation of the expected binomial distribution"
   ]
  },
  {
   "cell_type": "code",
   "execution_count": 9,
   "metadata": {},
   "outputs": [
    {
     "data": {
      "text/plain": [
       "(132, 123)"
      ]
     },
     "execution_count": 9,
     "metadata": {},
     "output_type": "execute_result"
    }
   ],
   "source": [
    "# lets, check 2019\n",
    "home_wins = 6+4+5+3+7+5+4+2+5+4+5+3+5+5+5+2+5+5+2+1+7+6+4+2+6+3+2+2+6+4+5+2\n",
    "home_losses = 2+4+3+5+1+3+4+6+3+4+3+5+3+3+3+6+3+3+6+7+1+2+4+6+2+5+6+6+2+4+3+5\n",
    "home_wins, home_losses"
   ]
  },
  {
   "cell_type": "code",
   "execution_count": 10,
   "metadata": {},
   "outputs": [
    {
     "data": {
      "text/plain": [
       "127.5"
      ]
     },
     "execution_count": 10,
     "metadata": {},
     "output_type": "execute_result"
    }
   ],
   "source": [
    "n = home_wins + home_losses\n",
    "p = 0.5\n",
    "n*p"
   ]
  },
  {
   "cell_type": "code",
   "execution_count": 11,
   "metadata": {},
   "outputs": [
    {
     "data": {
      "text/plain": [
       "7.984359711335656"
      ]
     },
     "execution_count": 11,
     "metadata": {},
     "output_type": "execute_result"
    }
   ],
   "source": [
    "std = ((n*p)*(1.-p))**0.5\n",
    "std"
   ]
  },
  {
   "cell_type": "code",
   "execution_count": 12,
   "metadata": {},
   "outputs": [
    {
     "data": {
      "text/plain": [
       "(153, 101)"
      ]
     },
     "execution_count": 12,
     "metadata": {},
     "output_type": "execute_result"
    }
   ],
   "source": [
    "# lets, check 2018\n",
    "home_wins = 8+6+4+2+6+5+5+4+6+6+6+3+7+5+3+3+7+5+3+2+7+5+5+3+6+4+5+4+7+6+4+1\n",
    "home_losses = 0+2+4+6+2+3+2+4+2+2+2+5+1+3+5+5+1+3+5+6+1+3+2+5+2+4+3+4+1+2+4+7\n",
    "home_wins, home_losses"
   ]
  },
  {
   "cell_type": "code",
   "execution_count": 13,
   "metadata": {},
   "outputs": [
    {
     "data": {
      "text/plain": [
       "127.0"
      ]
     },
     "execution_count": 13,
     "metadata": {},
     "output_type": "execute_result"
    }
   ],
   "source": [
    "n = home_wins + home_losses\n",
    "p = 0.5\n",
    "n*p"
   ]
  },
  {
   "cell_type": "code",
   "execution_count": 14,
   "metadata": {},
   "outputs": [
    {
     "data": {
      "text/plain": [
       "7.968688725254614"
      ]
     },
     "execution_count": 14,
     "metadata": {},
     "output_type": "execute_result"
    }
   ],
   "source": [
    "std = ((n*p)*(1.-p))**0.5\n",
    "std"
   ]
  },
  {
   "cell_type": "code",
   "execution_count": 15,
   "metadata": {},
   "outputs": [
    {
     "data": {
      "text/plain": [
       "(145, 96)"
      ]
     },
     "execution_count": 15,
     "metadata": {},
     "output_type": "execute_result"
    }
   ],
   "source": [
    "home_wins = 6+6+4+4+6+5+4+0+6+6+3+3+6+5+4+4+7+3+5+2+7+4+4+3+7+6+5+4+4+4+5+3\n",
    "home_losses = 2+2+4+4+2+3+4+8+2+2+5+5+2+3+4+4+1+4+4+5+1+2+3+4+4+4+3+5\n",
    "home_wins, home_losses"
   ]
  },
  {
   "cell_type": "code",
   "execution_count": 16,
   "metadata": {},
   "outputs": [
    {
     "data": {
      "text/plain": [
       "(147, 107)"
      ]
     },
     "execution_count": 16,
     "metadata": {},
     "output_type": "execute_result"
    }
   ],
   "source": [
    "home_wins = 6+6+4+2+6+6+4+1+7+5+4+2+6+6+5+3+7+7+4+6+6+6+5+3+5+4+4+4+7+4+1+1\n",
    "home_losses = 2+2+4+6+2+2+3+7+1+3+4+6+2+2+3+5+1+1+4+2+2+2+3+5+3+4+4+4+1+3+7+7\n",
    "home_wins, home_losses"
   ]
  },
  {
   "cell_type": "code",
   "execution_count": 17,
   "metadata": {},
   "outputs": [],
   "source": [
    "from scipy.stats import binom_test"
   ]
  },
  {
   "cell_type": "code",
   "execution_count": 18,
   "metadata": {},
   "outputs": [
    {
     "data": {
      "text/plain": [
       "0.9999999999999639"
      ]
     },
     "execution_count": 18,
     "metadata": {},
     "output_type": "execute_result"
    }
   ],
   "source": [
    "binom_test(120, n=120+119)"
   ]
  },
  {
   "cell_type": "code",
   "execution_count": 19,
   "metadata": {},
   "outputs": [
    {
     "data": {
      "text/plain": [
       "0.6164725642490251"
      ]
     },
     "execution_count": 19,
     "metadata": {},
     "output_type": "execute_result"
    }
   ],
   "source": [
    "binom_test(132, 132+123)"
   ]
  },
  {
   "cell_type": "code",
   "execution_count": 24,
   "metadata": {},
   "outputs": [
    {
     "data": {
      "text/plain": [
       "0.0013279592779819303"
      ]
     },
     "execution_count": 24,
     "metadata": {},
     "output_type": "execute_result"
    }
   ],
   "source": [
    "binom_test(153, 153+101)"
   ]
  },
  {
   "cell_type": "code",
   "execution_count": 26,
   "metadata": {},
   "outputs": [
    {
     "data": {
      "text/plain": [
       "0.0019271497975664026"
      ]
     },
     "execution_count": 26,
     "metadata": {},
     "output_type": "execute_result"
    }
   ],
   "source": [
    "binom_test(145, 145+96)"
   ]
  },
  {
   "cell_type": "code",
   "execution_count": 28,
   "metadata": {},
   "outputs": [
    {
     "data": {
      "text/plain": [
       "0.0142414673838132"
      ]
     },
     "execution_count": 28,
     "metadata": {},
     "output_type": "execute_result"
    }
   ],
   "source": [
    "binom_test(147, 147+107)"
   ]
  },
  {
   "cell_type": "code",
   "execution_count": 23,
   "metadata": {},
   "outputs": [
    {
     "data": {
      "text/plain": [
       "(7.8230428862431785, 2.6843774609657967)"
      ]
     },
     "execution_count": 23,
     "metadata": {},
     "output_type": "execute_result"
    }
   ],
   "source": [
    "# ok, let's say our expected p is 150/250\n",
    "n=132+123\n",
    "p = 150./250\n",
    "std = ((n*p)*(1.-p))**0.5\n",
    "std, (p*n-132)/std"
   ]
  },
  {
   "cell_type": "code",
   "execution_count": 25,
   "metadata": {},
   "outputs": [
    {
     "data": {
      "text/plain": [
       "(7.573638491504596, 3.089664238166101)"
      ]
     },
     "execution_count": 25,
     "metadata": {},
     "output_type": "execute_result"
    }
   ],
   "source": [
    "n=120+119\n",
    "p = 150./250\n",
    "std = ((n*p)*(1.-p))**0.5\n",
    "std, (p*n-120)/std"
   ]
  },
  {
   "cell_type": "code",
   "execution_count": null,
   "metadata": {},
   "outputs": [],
   "source": []
  }
 ],
 "metadata": {
  "kernelspec": {
   "display_name": "Python 3",
   "language": "python",
   "name": "python3"
  },
  "language_info": {
   "codemirror_mode": {
    "name": "ipython",
    "version": 3
   },
   "file_extension": ".py",
   "mimetype": "text/x-python",
   "name": "python",
   "nbconvert_exporter": "python",
   "pygments_lexer": "ipython3",
   "version": "3.7.1"
  }
 },
 "nbformat": 4,
 "nbformat_minor": 4
}
