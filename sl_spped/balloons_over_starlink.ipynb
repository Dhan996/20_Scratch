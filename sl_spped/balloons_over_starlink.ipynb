{
 "cells": [
  {
   "cell_type": "markdown",
   "metadata": {},
   "source": [
    "OK, if the main point of Starlink is to connect London and NY for high frequency traders, why not just use microwave from tethered balloons?"
   ]
  },
  {
   "cell_type": "code",
   "execution_count": 1,
   "metadata": {},
   "outputs": [],
   "source": [
    "import numpy as np"
   ]
  },
  {
   "cell_type": "code",
   "execution_count": 2,
   "metadata": {},
   "outputs": [],
   "source": [
    "Re = 6.37e8 /100 /1e3 # km\n",
    "sat_alt = 550.\n",
    "balloon_alt = 5\n",
    "air_index = 1.000273\n",
    "glass_index = 1.4475"
   ]
  },
  {
   "cell_type": "code",
   "execution_count": null,
   "metadata": {},
   "outputs": [],
   "source": []
  },
  {
   "cell_type": "code",
   "execution_count": null,
   "metadata": {},
   "outputs": [],
   "source": []
  },
  {
   "cell_type": "code",
   "execution_count": 3,
   "metadata": {},
   "outputs": [],
   "source": [
    "nyc = np.radians([40.730610, -73.935242])\n",
    "london = np.radians([51.509865, -0.118092])"
   ]
  },
  {
   "cell_type": "code",
   "execution_count": 4,
   "metadata": {},
   "outputs": [],
   "source": [
    "def _angularSeparation(long1, lat1, long2, lat2):\n",
    "    \"\"\"\n",
    "    Angular separation between two points in radians\n",
    "\n",
    "    Parameters\n",
    "    ----------\n",
    "    long1 is the first longitudinal coordinate in radians\n",
    "\n",
    "    lat1 is the first latitudinal coordinate in radians\n",
    "\n",
    "    long2 is the second longitudinal coordinate in radians\n",
    "\n",
    "    lat2 is the second latitudinal coordinate in radians\n",
    "\n",
    "    Returns\n",
    "    -------\n",
    "    The angular separation between the two points in radians\n",
    "\n",
    "    Calculated based on the haversine formula\n",
    "    From http://en.wikipedia.org/wiki/Haversine_formula\n",
    "    \"\"\"\n",
    "    \n",
    "    t1 = np.sin(lat2/2.0 - lat1/2.0)**2\n",
    "    t2 = np.cos(lat1)*np.cos(lat2)*np.sin(long2/2.0 - long1/2.0)**2\n",
    "    _sum = t1 + t2\n",
    "\n",
    "    \n",
    "    return 2.0*np.arcsin(np.sqrt(_sum))"
   ]
  },
  {
   "cell_type": "code",
   "execution_count": 5,
   "metadata": {},
   "outputs": [],
   "source": [
    "ang_sep = _angularSeparation(nyc[1], nyc[0], london[1], london[0]) # radians"
   ]
  },
  {
   "cell_type": "code",
   "execution_count": 6,
   "metadata": {},
   "outputs": [],
   "source": [
    "d_space = ang_sep * (Re+sat_alt)\n",
    "d_balloon = ang_sep * (balloon_alt+Re)\n",
    "d_glass = ang_sep * Re"
   ]
  },
  {
   "cell_type": "code",
   "execution_count": 7,
   "metadata": {},
   "outputs": [],
   "source": [
    "c = 2.9979e8/1e3 # km/s"
   ]
  },
  {
   "cell_type": "code",
   "execution_count": 8,
   "metadata": {},
   "outputs": [],
   "source": [
    "t_space = d_space/c\n",
    "t_baloon = d_balloon/(c/air_index)\n",
    "t_glass = d_glass/(c/glass_index)"
   ]
  },
  {
   "cell_type": "code",
   "execution_count": 9,
   "metadata": {},
   "outputs": [
    {
     "data": {
      "text/plain": [
       "20.162181731167454"
      ]
     },
     "execution_count": 9,
     "metadata": {},
     "output_type": "execute_result"
    }
   ],
   "source": [
    "t_space*1e3"
   ]
  },
  {
   "cell_type": "code",
   "execution_count": 10,
   "metadata": {},
   "outputs": [
    {
     "data": {
      "text/plain": [
       "18.579335013471514"
      ]
     },
     "execution_count": 10,
     "metadata": {},
     "output_type": "execute_result"
    }
   ],
   "source": [
    "t_baloon*1e3"
   ]
  },
  {
   "cell_type": "code",
   "execution_count": 11,
   "metadata": {},
   "outputs": [
    {
     "data": {
      "text/plain": [
       "26.865160233505684"
      ]
     },
     "execution_count": 11,
     "metadata": {},
     "output_type": "execute_result"
    }
   ],
   "source": [
    "t_glass*1e3"
   ]
  },
  {
   "cell_type": "code",
   "execution_count": 12,
   "metadata": {},
   "outputs": [],
   "source": [
    "# Via google:\n",
    "# Hibernia Subsea cable route boats round trip latency of just under 60ms "
   ]
  },
  {
   "cell_type": "markdown",
   "metadata": {},
   "source": [
    "So yes, if we had a bunch of stations in the Atlantic relaying radio/microwave/laser, should be able to beat Starlink.  Especially since the path in space can't follow a perfect geodesic, but could lay down close to an optimal path in water."
   ]
  },
  {
   "cell_type": "code",
   "execution_count": null,
   "metadata": {},
   "outputs": [],
   "source": []
  }
 ],
 "metadata": {
  "kernelspec": {
   "display_name": "Python 3",
   "language": "python",
   "name": "python3"
  },
  "language_info": {
   "codemirror_mode": {
    "name": "ipython",
    "version": 3
   },
   "file_extension": ".py",
   "mimetype": "text/x-python",
   "name": "python",
   "nbconvert_exporter": "python",
   "pygments_lexer": "ipython3",
   "version": "3.7.8"
  }
 },
 "nbformat": 4,
 "nbformat_minor": 4
}
