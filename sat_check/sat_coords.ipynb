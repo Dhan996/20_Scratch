{
 "cells": [
  {
   "cell_type": "code",
   "execution_count": 1,
   "metadata": {},
   "outputs": [],
   "source": [
    "import numpy as np\n",
    "# As always, update to the latest version of astropy to be sure coordinate things download properly\n",
    "from astropy.coordinates import get_sun, EarthLocation, SkyCoord\n",
    "from astropy.time import Time\n",
    "from astropy import coordinates as coord\n",
    "from astropy import units as u"
   ]
  },
  {
   "cell_type": "code",
   "execution_count": 2,
   "metadata": {},
   "outputs": [],
   "source": [
    "# degrees\n",
    "ra = 84.2014448312565 * u.deg\n",
    "dec = -21.2049386447795 * u.deg\n",
    "coor = SkyCoord(ra, dec)"
   ]
  },
  {
   "cell_type": "code",
   "execution_count": 3,
   "metadata": {},
   "outputs": [],
   "source": [
    "#GCRS: obstime=2020-03-06 00:05:52.410235\n",
    "obstime=Time('2020-03-06 00:05:52.410235', 'GCRS')\n",
    "\n",
    "location = EarthLocation.of_site('Cerro Tololo Interamerican Observatory')"
   ]
  },
  {
   "cell_type": "code",
   "execution_count": 4,
   "metadata": {},
   "outputs": [],
   "source": [
    "aa_frame = coord.AltAz(obstime=obstime, location=location)"
   ]
  },
  {
   "cell_type": "code",
   "execution_count": 5,
   "metadata": {},
   "outputs": [
    {
     "name": "stdout",
     "output_type": "stream",
     "text": [
      "Boresight alt,az\n",
      " <SkyCoord (AltAz: obstime=2020-03-06 00:05:52.410, location=(1814303.74553723, -5214365.7436216, -3187340.56598756) m, pressure=0.0 hPa, temperature=0.0 deg_C, relative_humidity=0.0, obswl=1.0 micron): (az, alt) in deg\n",
      "    (311.27964009, 77.02458212)>\n"
     ]
    }
   ],
   "source": [
    "aa_coos = coor.transform_to(aa_frame)  \n",
    "print('Boresight alt,az\\n', aa_coos)"
   ]
  },
  {
   "cell_type": "code",
   "execution_count": 6,
   "metadata": {},
   "outputs": [
    {
     "name": "stdout",
     "output_type": "stream",
     "text": [
      "sun location\n",
      " <SkyCoord (GCRS: obstime=2020-03-06 00:05:52.410, obsgeoloc=(0., 0., 0.) m, obsgeovel=(0., 0., 0.) m / s): (ra, dec, distance) in (deg, deg, AU)\n",
      "    (346.74903321, -5.67467956, 0.99206062)> <SkyCoord (AltAz: obstime=2020-03-06 00:05:52.410, location=(1814303.74553723, -5214365.7436216, -3187340.56598756) m, pressure=0.0 hPa, temperature=0.0 deg_C, relative_humidity=0.0, obswl=1.0 micron): (az, alt, distance) in (deg, deg, m)\n",
      "    (255.95285984, -12.40682634, 1.48411531e+11)>\n"
     ]
    }
   ],
   "source": [
    "sun_coord = get_sun(obstime)\n",
    "sun_aa = sun_coord.transform_to(aa_frame)  \n",
    "print('sun location\\n', sun_coord, sun_aa)"
   ]
  },
  {
   "cell_type": "code",
   "execution_count": 7,
   "metadata": {},
   "outputs": [
    {
     "name": "stdout",
     "output_type": "stream",
     "text": [
      "phase angle= 56d11m27.2026s\n"
     ]
    }
   ],
   "source": [
    "print('phase angle=', coor.separation(sun_coord))"
   ]
  },
  {
   "cell_type": "code",
   "execution_count": null,
   "metadata": {},
   "outputs": [],
   "source": []
  }
 ],
 "metadata": {
  "kernelspec": {
   "display_name": "Python 3",
   "language": "python",
   "name": "python3"
  },
  "language_info": {
   "codemirror_mode": {
    "name": "ipython",
    "version": 3
   },
   "file_extension": ".py",
   "mimetype": "text/x-python",
   "name": "python",
   "nbconvert_exporter": "python",
   "pygments_lexer": "ipython3",
   "version": "3.7.2"
  }
 },
 "nbformat": 4,
 "nbformat_minor": 2
}
