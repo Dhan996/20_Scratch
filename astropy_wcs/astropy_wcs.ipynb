{
 "cells": [
  {
   "cell_type": "code",
   "execution_count": 1,
   "metadata": {},
   "outputs": [],
   "source": [
    "# from https://stackoverflow.com/questions/63594323/astropy-wcs-transfromation-matrix\n",
    "from astropy.coordinates import SkyCoord\n",
    "import astropy.units as u\n",
    "from astropy.wcs import WCS\n",
    "from astropy.wcs.utils import fit_wcs_from_points\n",
    "import numpy as np\n",
    "from astropy.coordinates.angle_utilities import angular_separation\n"
   ]
  },
  {
   "cell_type": "code",
   "execution_count": 2,
   "metadata": {},
   "outputs": [
    {
     "data": {
      "text/plain": [
       "(array([17.40217445]), array([35.59826335]))"
      ]
     },
     "execution_count": 2,
     "metadata": {},
     "output_type": "execute_result"
    }
   ],
   "source": [
    "\n",
    "# I have the following stars identified in my image (andromeda):\n",
    "#  (X, Y)       --> (RA in degrees, DEC in degrees) --> HIP_ID\n",
    "#  (640, 555)   --> (17.43421495, 35.61993419)      --> 5447\n",
    "#  (1076, 32)  --> (2.09777329, 29.08952671)        --> 607\n",
    "#  (161, 903)  --> (30.9751282, 42.32944223)        --> 9640\n",
    "#  (932, 327)  --> (9.83272908, 30.86056254)        --> 3092\n",
    "stars = SkyCoord(ra=[17.43421495, 2.09777329, 30.9751282, 9.83272908], \n",
    "                 dec=[35.61993419, 29.08952671, 42.32944223, 30.86056254], \n",
    "                 unit=u.deg)\n",
    "stars\n",
    "pixels_x = np.array([640, 1076, 161, 932])\n",
    "pixels_y = np.array([555, 32, 903, 327])\n",
    "wcs = fit_wcs_from_points((pixels_x, pixels_y), stars); wcs\n",
    "wcs.wcs_pix2world(np.array([640]),np.array([555]),0, ra_dec_order=True)"
   ]
  },
  {
   "cell_type": "code",
   "execution_count": 3,
   "metadata": {},
   "outputs": [],
   "source": [
    "ra_fit, dec_fit = wcs.wcs_pix2world(pixels_x,pixels_y,0, ra_dec_order=True)"
   ]
  },
  {
   "cell_type": "code",
   "execution_count": 4,
   "metadata": {},
   "outputs": [],
   "source": [
    "resids = angular_separation(np.radians(ra_fit), np.radians(dec_fit), np.radians(stars.ra.deg), np.radians(stars.dec.deg))"
   ]
  },
  {
   "cell_type": "code",
   "execution_count": 5,
   "metadata": {},
   "outputs": [
    {
     "data": {
      "text/plain": [
       "(array([0.03388489, 0.00190631, 0.01302561, 0.02369304]), 0.011920851463217357)"
      ]
     },
     "execution_count": 5,
     "metadata": {},
     "output_type": "execute_result"
    }
   ],
   "source": [
    "np.degrees(resids), np.degrees(np.std(resids))"
   ]
  },
  {
   "cell_type": "code",
   "execution_count": 6,
   "metadata": {},
   "outputs": [],
   "source": [
    "from astropy.io import fits\n",
    "def test_fit_wcs_from_points():\n",
    "    header_str_linear = \"\"\"\n",
    "XTENSION= 'IMAGE   '           / Image extension\n",
    "BITPIX  =                  -32 / array data type\n",
    "NAXIS   =                    2 / number of array dimensions\n",
    "NAXIS1  =                   50\n",
    "NAXIS2  =                   50\n",
    "PCOUNT  =                    0 / number of parameters\n",
    "GCOUNT  =                    1 / number of groups\n",
    "RADESYS = 'ICRS    '\n",
    "EQUINOX =               2000.0\n",
    "WCSAXES =                    2\n",
    "CTYPE1  = 'RA---TAN'\n",
    "CTYPE2  = 'DEC--TAN'\n",
    "CRVAL1  =    250.3497414839765\n",
    "CRVAL2  =    2.280925599609063\n",
    "CRPIX1  =               1045.0\n",
    "CRPIX2  =               1001.0\n",
    "CD1_1   =   -0.005564478186178\n",
    "CD1_2   =   -0.001042099258152\n",
    "CD2_1   =     0.00118144146585\n",
    "CD2_2   =   -0.005590816683583\n",
    "\"\"\"\n",
    "\n",
    "    header_str_sip = \"\"\"\n",
    "XTENSION= 'IMAGE   '           / Image extension\n",
    "BITPIX  =                  -32 / array data type\n",
    "NAXIS   =                    2 / number of array dimensions\n",
    "NAXIS1  =                   50\n",
    "NAXIS2  =                   50\n",
    "PCOUNT  =                    0 / number of parameters\n",
    "GCOUNT  =                    1 / number of groups\n",
    "RADESYS = 'ICRS    '\n",
    "EQUINOX =               2000.0\n",
    "WCSAXES =                    2\n",
    "CTYPE1  = 'RA---TAN-SIP'\n",
    "CTYPE2  = 'DEC--TAN-SIP'\n",
    "CRVAL1  =    250.3497414839765\n",
    "CRVAL2  =    2.280925599609063\n",
    "CRPIX1  =               1045.0\n",
    "CRPIX2  =               1001.0\n",
    "CD1_1   =   -0.005564478186178\n",
    "CD1_2   =   -0.001042099258152\n",
    "CD2_1   =     0.00118144146585\n",
    "CD2_2   =   -0.005590816683583\n",
    "A_ORDER =                    2\n",
    "B_ORDER =                    2\n",
    "A_2_0   =    2.02451189234E-05\n",
    "A_0_2   =   3.317603337918E-06\n",
    "A_1_1   = 1.73456334971071E-05\n",
    "B_2_0   =   3.331330003472E-06\n",
    "B_0_2   = 2.04247482482589E-05\n",
    "B_1_1   = 1.71476710804143E-05\n",
    "AP_ORDER=                    2\n",
    "BP_ORDER=                    2\n",
    "AP_1_0  = 0.000904700296389636\n",
    "AP_0_1  = 0.000627660715584716\n",
    "AP_2_0  =  -2.023482905861E-05\n",
    "AP_0_2  =  -3.332285841011E-06\n",
    "AP_1_1  =  -1.731636633824E-05\n",
    "BP_1_0  = 0.000627960882053211\n",
    "BP_0_1  = 0.000911222886084808\n",
    "BP_2_0  =  -3.343918167224E-06\n",
    "BP_0_2  =  -2.041598249021E-05\n",
    "BP_1_1  =  -1.711876336719E-05\n",
    "A_DMAX  =    44.72893589844534\n",
    "B_DMAX  =    44.62692873032506\n",
    "\"\"\"\n",
    "    header_linear = fits.Header.fromstring(header_str_linear, sep='\\n')\n",
    "    header_sip = fits.Header.fromstring(header_str_sip, sep='\\n')\n",
    "\n",
    "    true_wcs_linear = WCS(header_linear, relax=True)\n",
    "    true_wcs_sip = WCS(header_sip, relax=True)\n",
    "\n",
    "    # Getting the pixel coordinates\n",
    "    x, y = np.meshgrid(list(range(10)), list(range(10)))\n",
    "    x = x.flatten()\n",
    "    y = y.flatten()\n",
    "\n",
    "    # Calculating the true sky positions\n",
    "    world_pix_linear = true_wcs_linear.pixel_to_world(x, y)\n",
    "    world_pix_sip = true_wcs_sip.pixel_to_world(x, y)\n",
    "\n",
    "    \n",
    "    # Fitting the wcs, no distortion.\n",
    "    fit_wcs_linear = fit_wcs_from_points((x, y), world_pix_linear,\n",
    "                                         proj_point='center', sip_degree=None)\n",
    "\n",
    "    # Fitting the wcs, with distortion.\n",
    "    fit_wcs_sip = fit_wcs_from_points((x, y), world_pix_sip,\n",
    "                                      proj_point='center', sip_degree=2)\n",
    "\n",
    "    # Validate that the true sky coordinates calculated with `true_wcs_linear`\n",
    "    # match sky coordinates calculated from the wcs fit with only linear terms\n",
    "\n",
    "    world_pix_linear_new = fit_wcs_linear.pixel_to_world(x, y)\n",
    "\n",
    "    dists = world_pix_linear.separation(world_pix_linear_new)\n",
    "    \n",
    "    assert dists.max() < 7e-5*u.deg\n",
    "    assert np.std(dists) < 2.5e-5*u.deg\n",
    "\n",
    "    # Validate that the true sky coordinates calculated with `true_wcs_sip`\n",
    "    # match the sky coordinates calculated from the wcs fit with SIP of same\n",
    "    # degree (2)\n",
    "\n",
    "    world_pix_sip_new = fit_wcs_sip.pixel_to_world(x, y)\n",
    "    dists = world_pix_sip.separation(world_pix_sip_new)\n",
    "\n",
    "    assert dists.max() < 7e-6*u.deg\n",
    "    assert np.std(dists) < 2.5e-6*u.deg\n",
    "\n",
    "    # Test 360->0 degree crossover\n",
    "    header_linear[\"CRVAL1\"] = 352.3497414839765\n",
    "    header_sip[\"CRVAL1\"] = 352.3497414839765\n",
    "\n",
    "    true_wcs_linear = WCS(header_linear, relax=True)\n",
    "    true_wcs_sip = WCS(header_sip, relax=True)\n",
    "\n",
    "    # Calculating the true sky positions\n",
    "    world_pix_linear = true_wcs_linear.pixel_to_world(x, y)\n",
    "    world_pix_sip = true_wcs_sip.pixel_to_world(x, y)\n",
    "\n",
    "    # Fitting the wcs, no distortion.\n",
    "    fit_wcs_linear = fit_wcs_from_points((x, y), world_pix_linear,\n",
    "                                         proj_point='center', sip_degree=None)\n",
    "\n",
    "    # Fitting the wcs, with distortion.\n",
    "    fit_wcs_sip = fit_wcs_from_points((x, y), world_pix_sip,\n",
    "                                      proj_point='center', sip_degree=2)\n",
    "\n",
    "    # Validate that the true sky coordinates calculated with `true_wcs_linear`\n",
    "    # match sky coordinates calculated from the wcs fit with only linear terms\n",
    "\n",
    "    world_pix_linear_new = fit_wcs_linear.pixel_to_world(x, y)\n",
    "\n",
    "    dists = world_pix_linear.separation(world_pix_linear_new)\n",
    "    assert dists.max() < 7e-5*u.deg\n",
    "    assert np.std(dists) < 2.5e-5*u.deg\n"
   ]
  },
  {
   "cell_type": "code",
   "execution_count": 7,
   "metadata": {},
   "outputs": [],
   "source": [
    "test_fit_wcs_from_points()"
   ]
  },
  {
   "cell_type": "code",
   "execution_count": 8,
   "metadata": {},
   "outputs": [
    {
     "data": {
      "text/plain": [
       "['/Users/yoachim/anaconda3/lib/python3.7/site-packages/astropy']"
      ]
     },
     "execution_count": 8,
     "metadata": {},
     "output_type": "execute_result"
    }
   ],
   "source": [
    "import astropy\n",
    "astropy.__path__"
   ]
  },
  {
   "cell_type": "code",
   "execution_count": null,
   "metadata": {},
   "outputs": [],
   "source": []
  }
 ],
 "metadata": {
  "kernelspec": {
   "display_name": "Python 3",
   "language": "python",
   "name": "python3"
  },
  "language_info": {
   "codemirror_mode": {
    "name": "ipython",
    "version": 3
   },
   "file_extension": ".py",
   "mimetype": "text/x-python",
   "name": "python",
   "nbconvert_exporter": "python",
   "pygments_lexer": "ipython3",
   "version": "3.7.8"
  }
 },
 "nbformat": 4,
 "nbformat_minor": 2
}
