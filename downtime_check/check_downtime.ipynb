{
 "cells": [
  {
   "cell_type": "code",
   "execution_count": 1,
   "metadata": {},
   "outputs": [],
   "source": [
    "from lsst.sims.featureScheduler.modelObservatory import Model_observatory\n",
    "import numpy as np\n",
    "from lsst.sims.almanac import Almanac\n",
    "from lsst.sims.cloudModel import CloudModel\n",
    "%matplotlib inline\n",
    "import matplotlib.pylab as plt\n",
    "from scipy.stats import binned_statistic\n",
    "from astropy.time import Time\n",
    "\n",
    "from datetime import datetime\n"
   ]
  },
  {
   "cell_type": "code",
   "execution_count": 2,
   "metadata": {},
   "outputs": [
    {
     "name": "stderr",
     "output_type": "stream",
     "text": [
      "WARNING: ErfaWarning: ERFA function \"d2dtf\" yielded 1 of \"dubious year (Note 5)\" [astropy._erfa.core]\n",
      "WARNING: ErfaWarning: ERFA function \"utctai\" yielded 1 of \"dubious year (Note 3)\" [astropy._erfa.core]\n"
     ]
    }
   ],
   "source": [
    "observatory = Model_observatory()"
   ]
  },
  {
   "cell_type": "code",
   "execution_count": 4,
   "metadata": {},
   "outputs": [
    {
     "data": {
      "text/plain": [
       "<lsst.sims.downtimeModel.scheduledDowntimeData.ScheduledDowntimeData at 0x131d79c780>"
      ]
     },
     "execution_count": 4,
     "metadata": {},
     "output_type": "execute_result"
    }
   ],
   "source": [
    "observatory.sched_downtime_data\n",
    "# night, number of nights down, reason"
   ]
  },
  {
   "cell_type": "code",
   "execution_count": 8,
   "metadata": {},
   "outputs": [],
   "source": [
    "starts = []\n",
    "ends = []\n",
    "for dt in observatory.sched_downtime_data():\n",
    "    starts.append(dt['start'].mjd)\n",
    "    ends.append(dt['end'].mjd)\n"
   ]
  },
  {
   "cell_type": "code",
   "execution_count": 11,
   "metadata": {},
   "outputs": [
    {
     "data": {
      "text/plain": [
       "array([ 7.,  7.,  7.,  7., 14.,  7.,  7., 14.,  7.,  7., 14.,  7.,  7.,\n",
       "       14.,  7.,  7., 14.,  7.,  7., 14.,  7.,  7., 14.,  7.,  7., 14.,\n",
       "        7.,  7., 14.,  7.,  7.])"
      ]
     },
     "execution_count": 11,
     "metadata": {},
     "output_type": "execute_result"
    }
   ],
   "source": [
    "np.array(ends) - np.array(starts)"
   ]
  },
  {
   "cell_type": "code",
   "execution_count": 12,
   "metadata": {},
   "outputs": [
    {
     "data": {
      "text/plain": [
       "280.0"
      ]
     },
     "execution_count": 12,
     "metadata": {},
     "output_type": "execute_result"
    }
   ],
   "source": [
    "np.sum(np.array(ends) - np.array(starts))"
   ]
  },
  {
   "cell_type": "code",
   "execution_count": 13,
   "metadata": {},
   "outputs": [],
   "source": [
    "starts = []\n",
    "ends = []\n",
    "for dt in observatory.unsched_downtime_data():\n",
    "    starts.append(dt['start'].mjd)\n",
    "    ends.append(dt['end'].mjd)\n"
   ]
  },
  {
   "cell_type": "code",
   "execution_count": 14,
   "metadata": {},
   "outputs": [
    {
     "data": {
      "text/plain": [
       "array([ 1.,  3.,  7.,  1.,  1.,  1.,  1.,  1.,  7.,  1.,  3.,  1.,  1.,\n",
       "        1.,  1.,  1.,  3.,  1.,  1.,  1.,  1.,  1.,  3.,  3.,  1.,  1.,\n",
       "        1.,  3.,  7.,  1.,  1.,  3.,  1.,  1.,  1.,  1.,  1.,  1.,  3.,\n",
       "        1.,  1.,  1.,  3.,  1.,  1.,  3.,  1.,  7.,  1., 14.,  1.,  1.,\n",
       "        3.,  3.,  1.,  1.,  1.,  1.,  1.,  1.,  1.,  3.,  3.,  1.,  1.,\n",
       "        1.,  1.,  1.,  7.,  3.,  1.,  1.,  1.,  1.,  1.,  1.,  3.,  1.,\n",
       "        1.,  1.,  3.,  1.,  1.,  1.,  1.,  1.,  1.,  3.,  1.,  1.,  1.,\n",
       "        3.,  1.,  3.,  1.,  1.,  1.,  3.,  3.,  1.,  1.,  1.,  1.,  1.,\n",
       "        3.,  7.,  3.,  3.,  1.,  1.,  1.,  7.,  1.,  1.,  1.,  7.,  1.,\n",
       "        1., 14.,  1.,  3.,  1.,  1.,  7.,  1.,  1.,  3.,  3.,  1.,  1.,\n",
       "        1.,  1.,  1.,  3.,  1.,  1.,  1.,  1.,  1.,  3.,  1.,  3.,  3.,\n",
       "        3.,  1.,  1.,  3.,  3.,  1.,  7.,  7.,  1.,  1.,  1.,  1.])"
      ]
     },
     "execution_count": 14,
     "metadata": {},
     "output_type": "execute_result"
    }
   ],
   "source": [
    "np.array(ends) - np.array(starts)"
   ]
  },
  {
   "cell_type": "code",
   "execution_count": 15,
   "metadata": {},
   "outputs": [
    {
     "data": {
      "text/plain": [
       "317.0"
      ]
     },
     "execution_count": 15,
     "metadata": {},
     "output_type": "execute_result"
    }
   ],
   "source": [
    "np.sum(np.array(ends) - np.array(starts))"
   ]
  },
  {
   "cell_type": "code",
   "execution_count": null,
   "metadata": {},
   "outputs": [],
   "source": []
  },
  {
   "cell_type": "code",
   "execution_count": null,
   "metadata": {},
   "outputs": [],
   "source": []
  }
 ],
 "metadata": {
  "kernelspec": {
   "display_name": "Python 3",
   "language": "python",
   "name": "python3"
  },
  "language_info": {
   "codemirror_mode": {
    "name": "ipython",
    "version": 3
   },
   "file_extension": ".py",
   "mimetype": "text/x-python",
   "name": "python",
   "nbconvert_exporter": "python",
   "pygments_lexer": "ipython3",
   "version": "3.7.2"
  }
 },
 "nbformat": 4,
 "nbformat_minor": 2
}
