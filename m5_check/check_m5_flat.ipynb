{
 "cells": [
  {
   "cell_type": "code",
   "execution_count": 1,
   "metadata": {},
   "outputs": [],
   "source": [
    "import numpy as np\n",
    "from lsst.sims.utils import m5_flat_sed"
   ]
  },
  {
   "cell_type": "code",
   "execution_count": 2,
   "metadata": {},
   "outputs": [],
   "source": [
    "filters = 'ugrizy'\n",
    "sky_mus = [23, 22, 21, 20.5, 19.6, 18.6]"
   ]
  },
  {
   "cell_type": "code",
   "execution_count": 3,
   "metadata": {},
   "outputs": [],
   "source": [
    "nexp =1 \n",
    "fwhmeff = 0.7\n",
    "exptime = 30./nexp\n",
    "airmass = 1.1\n",
    "one_snap = [m5_flat_sed(fn, musky, fwhmeff, exptime, airmass, nexp=nexp) for fn, musky in zip(filters, sky_mus)]"
   ]
  },
  {
   "cell_type": "code",
   "execution_count": 4,
   "metadata": {},
   "outputs": [],
   "source": [
    "nexp =2 \n",
    "fwhmeff = 0.7\n",
    "exptime = 30./nexp\n",
    "airmass = 1.1\n",
    "two_snap = [m5_flat_sed(fn, musky, fwhmeff, exptime, airmass, nexp=nexp) for fn, musky in zip(filters, sky_mus)]"
   ]
  },
  {
   "cell_type": "code",
   "execution_count": 5,
   "metadata": {},
   "outputs": [
    {
     "data": {
      "text/plain": [
       "array([0.23301589, 0.07006653, 0.04048344, 0.03616797, 0.02481147,\n",
       "       0.01816575])"
      ]
     },
     "execution_count": 5,
     "metadata": {},
     "output_type": "execute_result"
    }
   ],
   "source": [
    "np.array(one_snap) - np.array(two_snap)"
   ]
  },
  {
   "cell_type": "code",
   "execution_count": null,
   "metadata": {},
   "outputs": [],
   "source": []
  }
 ],
 "metadata": {
  "kernelspec": {
   "display_name": "Python 3",
   "language": "python",
   "name": "python3"
  },
  "language_info": {
   "codemirror_mode": {
    "name": "ipython",
    "version": 3
   },
   "file_extension": ".py",
   "mimetype": "text/x-python",
   "name": "python",
   "nbconvert_exporter": "python",
   "pygments_lexer": "ipython3",
   "version": "3.7.2"
  }
 },
 "nbformat": 4,
 "nbformat_minor": 2
}
